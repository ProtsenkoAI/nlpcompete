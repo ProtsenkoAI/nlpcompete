{
 "cells": [
  {
   "cell_type": "code",
   "execution_count": 1,
   "id": "2575728b",
   "metadata": {
    "tags": []
   },
   "outputs": [],
   "source": [
    "# !python3 -m deeppavlov install squad_bert"
   ]
  },
  {
   "cell_type": "markdown",
   "id": "737cb09e-6e96-41ec-a3f3-4d7819ee5220",
   "metadata": {},
   "source": [
    "### Imports and constants"
   ]
  },
  {
   "cell_type": "code",
   "execution_count": 3,
   "id": "b99dcb70",
   "metadata": {},
   "outputs": [],
   "source": [
    "import os\n",
    "from torch import cuda, device\n",
    "\n",
    "BASE_DIR = \"./../../../\"\n",
    "DATA_DIR = os.path.join(BASE_DIR, \"data/rucos\")\n",
    "SOURCES_DIR = os.path.join(BASE_DIR, \"nti_ai_pipeline\")\n",
    "TRAIN_FILE_PATH = os.path.join(DATA_DIR, \"rucos_train.jsonl\")\n",
    "VAL_FILE_PATH = os.path.join(DATA_DIR, \"rucos_val.jsonl\")\n",
    "TEST_FILE_PATH = os.path.join(DATA_DIR, \"rucos_test.jsonl\")\n",
    "\n",
    "BATCH_SIZE = 2\n",
    "DEVICE = device(\"cuda\" if cuda.is_available() else \"cpu\")\n",
    "TRANSFORMER_NAME = \"DeepPavlov/rubert-base-cased\"\n",
    "\n",
    "MOCK = True # turn off if run real pipeline, turn on if testing that things work"
   ]
  },
  {
   "cell_type": "code",
   "execution_count": 4,
   "id": "7ae2c75e",
   "metadata": {},
   "outputs": [],
   "source": [
    "import sys\n",
    "import importlib\n",
    "import torch\n",
    "\n",
    "sys.path.append(SOURCES_DIR)\n",
    "\n",
    "import nti_rucos\n",
    "import pipeline\n",
    "from torch.utils import data as torch_data\n",
    "from nti_rucos import modeling as rucos_modeling\n",
    "from pipeline.saving import local_saver\n",
    "\n",
    "\n",
    "\n",
    "my_modules = [nti_rucos, pipeline, rucos_modeling, local_saver]\n",
    "\n",
    "for module in my_modules:\n",
    "    importlib.reload(module)"
   ]
  },
  {
   "cell_type": "markdown",
   "id": "816dc1c1-2347-4736-b59b-1288e62505f6",
   "metadata": {},
   "source": [
    "### Loading data"
   ]
  },
  {
   "cell_type": "code",
   "execution_count": 5,
   "id": "b98c2c5e",
   "metadata": {
    "tags": []
   },
   "outputs": [],
   "source": [
    "container = nti_rucos.data.RucosContainer(TRAIN_FILE_PATH, VAL_FILE_PATH)\n",
    "\n",
    "test_size = 0.001 if MOCK else 0.2\n",
    "train_data, test_data = container.train_test_split(shuffle=True, test_size=test_size)\n",
    "\n",
    "train_dataset = nti_rucos.data.RucosTrainDataset(train_data)\n",
    "val_dataset = nti_rucos.data.RucosValDataset(test_data)\n",
    "\n",
    "train_loader = torch_data.DataLoader(train_dataset, batch_size=BATCH_SIZE)\n",
    "val_loader = torch_data.DataLoader(val_dataset, batch_size=BATCH_SIZE)"
   ]
  },
  {
   "cell_type": "markdown",
   "id": "d80216c2-8638-452e-9158-806e7852d273",
   "metadata": {},
   "source": [
    "### Pretraining model using MLM"
   ]
  },
  {
   "cell_type": "code",
   "execution_count": 6,
   "id": "3d4e482d-f4ed-47cc-af33-dd9dae4992cf",
   "metadata": {},
   "outputs": [],
   "source": [
    "pretrainer = nti_rucos.pretraining.MLMBertPretrainer(checkpoints_dir=\"./pretrains\")"
   ]
  },
  {
   "cell_type": "code",
   "execution_count": null,
   "id": "644533f9-fb4d-41c6-9b28-63481bc06c5b",
   "metadata": {},
   "outputs": [
    {
     "data": {
      "application/vnd.jupyter.widget-view+json": {
       "model_id": "d3f56421f59946ccbb29660154f85295",
       "version_major": 2,
       "version_minor": 0
      },
      "text/plain": [
       "HBox(children=(FloatProgress(value=0.0, description='Downloading', max=642.0, style=ProgressStyle(description_…"
      ]
     },
     "metadata": {},
     "output_type": "display_data"
    },
    {
     "name": "stdout",
     "output_type": "stream",
     "text": [
      "\n"
     ]
    },
    {
     "data": {
      "application/vnd.jupyter.widget-view+json": {
       "model_id": "3321095b83ba4d39b23c9e566bcac6f1",
       "version_major": 2,
       "version_minor": 0
      },
      "text/plain": [
       "HBox(children=(FloatProgress(value=0.0, description='Downloading', max=711456796.0, style=ProgressStyle(descri…"
      ]
     },
     "metadata": {},
     "output_type": "display_data"
    },
    {
     "name": "stdout",
     "output_type": "stream",
     "text": [
      "\n"
     ]
    },
    {
     "name": "stderr",
     "output_type": "stream",
     "text": [
      "Some weights of BertForMaskedLM were not initialized from the model checkpoint at DeepPavlov/rubert-base-cased and are newly initialized: ['cls.predictions.bias', 'cls.predictions.decoder.weight', 'cls.predictions.transform.dense.weight', 'cls.predictions.transform.dense.bias', 'cls.predictions.transform.LayerNorm.weight', 'cls.predictions.transform.LayerNorm.bias']\n",
      "You should probably TRAIN this model on a down-stream task to be able to use it for predictions and inference.\n"
     ]
    },
    {
     "data": {
      "text/html": [
       "\n",
       "    <div>\n",
       "        <style>\n",
       "            /* Turns off some styling */\n",
       "            progress {\n",
       "                /* gets rid of default border in Firefox and Opera. */\n",
       "                border: none;\n",
       "                /* Needs to be in here for Safari polyfill so background images work as expected. */\n",
       "                background-size: auto;\n",
       "            }\n",
       "        </style>\n",
       "      \n",
       "      <progress value='2' max='86631' style='width:300px; height:20px; vertical-align: middle;'></progress>\n",
       "      [    2/86631 : < :, Epoch 0.00/3]\n",
       "    </div>\n",
       "    <table border=\"1\" class=\"dataframe\">\n",
       "  <thead>\n",
       "    <tr style=\"text-align: left;\">\n",
       "      <th>Step</th>\n",
       "      <th>Training Loss</th>\n",
       "      <th>Validation Loss</th>\n",
       "    </tr>\n",
       "  </thead>\n",
       "  <tbody>\n",
       "  </tbody>\n",
       "</table><p>"
      ],
      "text/plain": [
       "<IPython.core.display.HTML object>"
      ]
     },
     "metadata": {},
     "output_type": "display_data"
    }
   ],
   "source": [
    "eval_every = 10 if MOCK else 20 * 1000\n",
    "save_every = 10 if MOCK else 2 * 1000\n",
    "\n",
    "path_to_best_pretrain_weights = pretrainer.pretrain(mname=TRANSFORMER_NAME, data_container=container,\n",
    "                                                    batch_size=BATCH_SIZE, eval_every=eval_every, save_every=save_every)"
   ]
  },
  {
   "cell_type": "markdown",
   "id": "460b5205-e32a-4dcd-9dcf-500c2d1e268c",
   "metadata": {},
   "source": [
    "### Defining model and trainer"
   ]
  },
  {
   "cell_type": "code",
   "execution_count": 5,
   "id": "2d8cad99",
   "metadata": {
    "tags": []
   },
   "outputs": [],
   "source": [
    "proc = nti_rucos.modeling.RucosProcessor(TRANSFORMER_NAME, use_ner=False)\n",
    "if MOCK:   \n",
    "    model = rucos_modeling.mock_model.MockModel( # don't using SentPairBinaryClassifier because my laptop can't handle it with 12G of RAM\n",
    "        use_ner=False\n",
    "    )\n",
    "else:\n",
    "    model = rucos_modeling.SentPairBinaryClassifier(\n",
    "        TRANSFORMER_NAME,\n",
    "        droprate=0.2, \n",
    "        use_ner=False\n",
    "    )\n",
    "saver = pipeline.saving.local_saver.LocalSaver(save_dir='./saved_models')\n",
    "\n",
    "manager = pipeline.modeling.ModelManager(model, proc, DEVICE, saver)"
   ]
  },
  {
   "cell_type": "code",
   "execution_count": 6,
   "id": "c4fa9961",
   "metadata": {
    "tags": []
   },
   "outputs": [],
   "source": [
    "validator = nti_rucos.evaluating.RucosValidator()\n",
    "# eval_val = validator.eval(manager, val_loader)"
   ]
  },
  {
   "cell_type": "code",
   "execution_count": 7,
   "id": "6d234d98",
   "metadata": {},
   "outputs": [],
   "source": [
    "weights_updater = pipeline.WeightsUpdater(lr=7e-6, warmup=200, lr_end=1.7e-6, accum_iters=6, weight_decay=0.04, optimizer_class=torch.optim.AdamW) # NOTE: had set to 0 from 1e-2\n",
    "trainer = pipeline.training.Trainer(validator, weights_updater)"
   ]
  },
  {
   "cell_type": "markdown",
   "id": "ac59753a-22c7-4721-8e2f-73899fe1b8aa",
   "metadata": {},
   "source": [
    "### Running fit"
   ]
  },
  {
   "cell_type": "code",
   "execution_count": 8,
   "id": "8c877c96",
   "metadata": {
    "tags": []
   },
   "outputs": [
    {
     "data": {
      "application/vnd.jupyter.widget-view+json": {
       "model_id": "d50719aada4643889cb97fef04d66016",
       "version_major": 2,
       "version_minor": 0
      },
      "text/plain": [
       "HBox(children=(FloatProgress(value=0.0, max=344154.0), HTML(value='')))"
      ]
     },
     "metadata": {},
     "output_type": "display_data"
    },
    {
     "data": {
      "application/vnd.jupyter.widget-view+json": {
       "model_id": "4cd8d05d47044bb09b7680678fa89c3e",
       "version_major": 2,
       "version_minor": 0
      },
      "text/plain": [
       "HBox(children=(FloatProgress(value=0.0, description='eval', max=328.0, style=ProgressStyle(description_width='…"
      ]
     },
     "metadata": {},
     "output_type": "display_data"
    },
    {
     "name": "stdout",
     "output_type": "stream",
     "text": [
      "\n",
      "_eval. Eval_value: 0.12328767031431198\n",
      "Saved model. Eval value: 0.12328767031431198 Name: 30277002-4edc-4201-b6b6-fc5e86464376\n"
     ]
    }
   ],
   "source": [
    "# del model, manager\n",
    "import gc, torch\n",
    "gc.collect()\n",
    "torch.cuda.empty_cache()\n",
    "\n",
    "if MOCK:\n",
    "    steps_betw_evals = 50\n",
    "    max_step = 90\n",
    "else:\n",
    "    steps_betw_evals = 5000\n",
    "    max_step = 50001\n",
    "    \n",
    "trainer.fit(train_loader, val_loader, manager, max_step=max_step, steps_betw_evals=steps_betw_evals, stop_patience=3)"
   ]
  },
  {
   "cell_type": "markdown",
   "id": "36139970-4749-4e38-9323-9f7f64c3694c",
   "metadata": {},
   "source": [
    "### Pseudo labeling"
   ]
  },
  {
   "cell_type": "code",
   "execution_count": 9,
   "id": "3b4660df-3a37-455b-be94-59639f2540b5",
   "metadata": {},
   "outputs": [],
   "source": [
    "pseudo_labeler = nti_rucos.sources.pseudo_labeling.RegressionPseudoLabeler(chosen_proportion=0.15, \n",
    "                                                                            pos_to_neg_proportion=0.5)"
   ]
  },
  {
   "cell_type": "code",
   "execution_count": 10,
   "id": "678e7f59-276a-4961-b618-fc9e9f599718",
   "metadata": {},
   "outputs": [],
   "source": [
    "test_container = nti_rucos.data.RucosContainer(path=os.path.join(DATA_DIR, 'rucos_test.jsonl'), has_labels=False,\n",
    "                                                  query_placeholder_union_mode=\"concatenate\",\n",
    "                                                  )\n",
    "test_dataset = nti_rucos.data.RucosSubmDataset(test_container.get_data(), switch_texts=True)\n",
    "if MOCK:\n",
    "    test_dataset = torch_data.Subset(test_dataset, list(range(1000)))\n",
    "    \n",
    "test_loader = torch_data.DataLoader(test_dataset, batch_size=2)"
   ]
  },
  {
   "cell_type": "code",
   "execution_count": 11,
   "id": "ad8d0829-cc08-43f7-bac2-7eecf0a3d51e",
   "metadata": {},
   "outputs": [],
   "source": [
    "pseudo_label_samples = pseudo_labeler.run(manager, test_loader)"
   ]
  },
  {
   "cell_type": "code",
   "execution_count": 12,
   "id": "474a90f8-7862-42e9-a724-5f7636b0e5ed",
   "metadata": {},
   "outputs": [],
   "source": [
    "pseudo_label_dataset = nti_rucos.data.RawSamplesDataset(pseudo_label_samples, switch_texts=True)\n",
    "unioned_train_dataset = torch.utils.data.ConcatDataset([train_dataset, pseudo_label_dataset])"
   ]
  },
  {
   "cell_type": "markdown",
   "id": "f86f16e2-75dc-4d40-907d-1527587c3025",
   "metadata": {},
   "source": [
    "#### So this way we obtained pseudo labels by our model and can retrain it if needed using them"
   ]
  },
  {
   "cell_type": "markdown",
   "id": "7da52c2d-89ad-4754-be79-272d6160d1e4",
   "metadata": {},
   "source": [
    "### Submitting"
   ]
  },
  {
   "cell_type": "code",
   "execution_count": 13,
   "id": "76bd07d5",
   "metadata": {},
   "outputs": [
    {
     "data": {
      "application/vnd.jupyter.widget-view+json": {
       "model_id": "1faba640a8b2425f801605b880ad719d",
       "version_major": 2,
       "version_minor": 0
      },
      "text/plain": [
       "HBox(children=(FloatProgress(value=0.0, max=500.0), HTML(value='')))"
      ]
     },
     "metadata": {},
     "output_type": "display_data"
    },
    {
     "name": "stdout",
     "output_type": "stream",
     "text": [
      "\n",
      "Some preds [SubmPred(text_id=tensor(0), probs=-0.4128408041101899, start=tensor(54), end=tensor(62), placeholder='Приштины'), SubmPred(text_id=tensor(0), probs=0.369328829334397, start=tensor(99), end=tensor(105), placeholder='Косово'), SubmPred(text_id=tensor(0), probs=-0.07764485496361115, start=tensor(332), end=tensor(353), placeholder='Югославской Федерации'), SubmPred(text_id=tensor(0), probs=0.05128829235378058, start=tensor(412), end=tensor(424), placeholder='Косовом поле'), SubmPred(text_id=tensor(0), probs=0.44465991394674786, start=tensor(479), end=tensor(497), placeholder='Слободан Милошевич'), SubmPred(text_id=tensor(0), probs=0.21535269173066704, start=tensor(706), end=tensor(713), placeholder='Белград'), SubmPred(text_id=tensor(0), probs=-0.525530045817756, start=tensor(723), end=tensor(725), placeholder='ЕС'), SubmPred(text_id=tensor(0), probs=-0.7779352258294525, start=tensor(816), end=tensor(822), placeholder='Сербии'), SubmPred(text_id=tensor(0), probs=0.23015521621526816, start=tensor(834), end=tensor(840), placeholder='Россия'), SubmPred(text_id=tensor(0), probs=0.062358812073699796, start=tensor(872), end=tensor(881), placeholder='Евросоюза')]\n"
     ]
    }
   ],
   "source": [
    "# best_manager = trainer.load_best_manager()\n",
    "# best_manager = managing_model.ModelManager.load(saver, '9ab8822d-1d50-4d8d-904b-2e7a70dca78f')\n",
    "best_manager = manager\n",
    "\n",
    "submitter = nti_rucos.rucos_submitting.RucosSubmitter(subm_dir=os.path.join(BASE_DIR, 'submissions'))\n",
    "\n",
    "# test loader is taken from Pseudo labeling step\n",
    "submitter.create_submission(\n",
    "    best_manager, test_loader, subm_file_name=\"subm_single_bert_50000_steps.jsonl\",\n",
    "    )"
   ]
  },
  {
   "cell_type": "code",
   "execution_count": null,
   "id": "e922fb4b",
   "metadata": {},
   "outputs": [],
   "source": []
  }
 ],
 "metadata": {
  "kernelspec": {
   "display_name": "Python 3",
   "language": "python",
   "name": "python3"
  },
  "language_info": {
   "codemirror_mode": {
    "name": "ipython",
    "version": 3
   },
   "file_extension": ".py",
   "mimetype": "text/x-python",
   "name": "python",
   "nbconvert_exporter": "python",
   "pygments_lexer": "ipython3",
   "version": "3.7.9"
  }
 },
 "nbformat": 4,
 "nbformat_minor": 5
}
