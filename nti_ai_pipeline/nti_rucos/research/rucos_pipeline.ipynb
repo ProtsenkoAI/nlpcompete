{
 "cells": [
  {
   "cell_type": "code",
   "execution_count": 1,
   "id": "2575728b",
   "metadata": {
    "tags": []
   },
   "outputs": [],
   "source": [
    "# !python3 -m deeppavlov install squad_bert"
   ]
  },
  {
   "cell_type": "markdown",
   "id": "737cb09e-6e96-41ec-a3f3-4d7819ee5220",
   "metadata": {},
   "source": [
    "### Imports and constants"
   ]
  },
  {
   "cell_type": "code",
   "execution_count": 1,
   "id": "b99dcb70",
   "metadata": {},
   "outputs": [],
   "source": [
    "import os\n",
    "from torch import cuda, device\n",
    "\n",
    "BASE_DIR = \"./../../../\"\n",
    "DATA_DIR = os.path.join(BASE_DIR, \"data/rucos\")\n",
    "SOURCES_DIR = os.path.join(BASE_DIR, \"nti_ai_pipeline\")\n",
    "TRAIN_FILE_PATH = os.path.join(DATA_DIR, \"rucos_train.jsonl\")\n",
    "VAL_FILE_PATH = os.path.join(DATA_DIR, \"rucos_val.jsonl\")\n",
    "TEST_FILE_PATH = os.path.join(DATA_DIR, \"rucos_test.jsonl\")\n",
    "\n",
    "BATCH_SIZE = 2\n",
    "DEVICE = device(\"cuda\" if cuda.is_available() else \"cpu\")\n",
    "TRANSFORMER_NAME = \"DeepPavlov/rubert-base-cased\"\n",
    "MOCK = True # turn off if run real pipeline, turn on if testing that things work"
   ]
  },
  {
   "cell_type": "code",
   "execution_count": 2,
   "id": "7ae2c75e",
   "metadata": {},
   "outputs": [],
   "source": [
    "import sys\n",
    "import importlib\n",
    "import torch\n",
    "\n",
    "sys.path.append(SOURCES_DIR)\n",
    "\n",
    "import nti_rucos\n",
    "import pipeline\n",
    "from torch.utils import data as torch_data\n",
    "from nti_rucos import modeling as rucos_modeling\n",
    "from pipeline.saving import local_saver\n",
    "\n",
    "\n",
    "\n",
    "my_modules = [nti_rucos, pipeline, rucos_modeling, local_saver]\n",
    "\n",
    "for module in my_modules:\n",
    "    importlib.reload(module)"
   ]
  },
  {
   "cell_type": "markdown",
   "id": "816dc1c1-2347-4736-b59b-1288e62505f6",
   "metadata": {},
   "source": [
    "### Loading data"
   ]
  },
  {
   "cell_type": "code",
   "execution_count": 4,
   "id": "b98c2c5e",
   "metadata": {
    "tags": []
   },
   "outputs": [],
   "source": [
    "container = nti_rucos.data.RucosContainer(TRAIN_FILE_PATH, VAL_FILE_PATH)\n",
    "\n",
    "test_size = 0.001 if MOCK else 0.2\n",
    "train_data, test_data = container.train_test_split(shuffle=True, test_size=test_size)\n",
    "\n",
    "train_dataset = nti_rucos.data.RucosTrainDataset(train_data)\n",
    "val_dataset = nti_rucos.data.RucosValDataset(test_data)\n",
    "\n",
    "train_loader = torch_data.DataLoader(train_dataset, batch_size=BATCH_SIZE)\n",
    "val_loader = torch_data.DataLoader(val_dataset, batch_size=BATCH_SIZE)"
   ]
  },
  {
   "cell_type": "markdown",
   "id": "460b5205-e32a-4dcd-9dcf-500c2d1e268c",
   "metadata": {},
   "source": [
    "### Defining model and trainer"
   ]
  },
  {
   "cell_type": "code",
   "execution_count": 3,
   "id": "2d8cad99",
   "metadata": {
    "tags": []
   },
   "outputs": [],
   "source": [
    "proc = nti_rucos.modeling.RucosProcessor(TRANSFORMER_NAME, use_ner=False)\n",
    "if MOCK:   \n",
    "    model = rucos_modeling.mock_model.MockModel( # don't using SentPairBinaryClassifier because my laptop can't handle it with 12G of RAM\n",
    "        use_ner=False\n",
    "    )\n",
    "else:\n",
    "    model = rucos_modeling.SentPairBinaryClassifier(\n",
    "        TRANSFORMER_NAME,\n",
    "        droprate=0.2, \n",
    "        use_ner=False\n",
    "    )\n",
    "saver = pipeline.saving.local_saver.LocalSaver(save_dir='./saved_models')\n",
    "\n",
    "manager = pipeline.modeling.ModelManager(model, proc, DEVICE, saver)"
   ]
  },
  {
   "cell_type": "code",
   "execution_count": 6,
   "id": "c4fa9961",
   "metadata": {
    "tags": []
   },
   "outputs": [],
   "source": [
    "validator = nti_rucos.evaluating.RucosValidator()\n",
    "# eval_val = validator.eval(manager, val_loader)"
   ]
  },
  {
   "cell_type": "code",
   "execution_count": 7,
   "id": "6d234d98",
   "metadata": {},
   "outputs": [],
   "source": [
    "weights_updater = pipeline.WeightsUpdater(lr=7e-6, warmup=200, lr_end=1.7e-6, accum_iters=6, weight_decay=0.04, optimizer_class=torch.optim.AdamW) # NOTE: had set to 0 from 1e-2\n",
    "trainer = pipeline.training.Trainer(validator, weights_updater)"
   ]
  },
  {
   "cell_type": "markdown",
   "id": "ac59753a-22c7-4721-8e2f-73899fe1b8aa",
   "metadata": {},
   "source": [
    "### Running fit"
   ]
  },
  {
   "cell_type": "code",
   "execution_count": 8,
   "id": "8c877c96",
   "metadata": {
    "tags": []
   },
   "outputs": [
    {
     "data": {
      "application/vnd.jupyter.widget-view+json": {
       "model_id": "a2acb70b0cf74cd29f2150b0ce038261",
       "version_major": 2,
       "version_minor": 0
      },
      "text/plain": [
       "HBox(children=(FloatProgress(value=0.0, max=344154.0), HTML(value='')))"
      ]
     },
     "metadata": {},
     "output_type": "display_data"
    },
    {
     "data": {
      "application/vnd.jupyter.widget-view+json": {
       "model_id": "ec7d91a58b9743acab3f7c6279a1b0ec",
       "version_major": 2,
       "version_minor": 0
      },
      "text/plain": [
       "HBox(children=(FloatProgress(value=0.0, description='eval', max=328.0, style=ProgressStyle(description_width='…"
      ]
     },
     "metadata": {},
     "output_type": "display_data"
    },
    {
     "name": "stdout",
     "output_type": "stream",
     "text": [
      "\n",
      "_eval. Eval_value: 0.13698630034923553\n",
      "Saved model. Eval value: 0.13698630034923553 Name: 584ccd79-a6bb-40b1-a3a9-2104302f32f2\n"
     ]
    }
   ],
   "source": [
    "# del model, manager\n",
    "import gc, torch\n",
    "gc.collect()\n",
    "torch.cuda.empty_cache()\n",
    "\n",
    "if MOCK:\n",
    "    steps_betw_evals = 50\n",
    "    max_step = 90\n",
    "else:\n",
    "    steps_betw_evals = 5000\n",
    "    max_step = 50001\n",
    "    \n",
    "trainer.fit(train_loader, val_loader, manager, max_step=max_step, steps_betw_evals=steps_betw_evals, stop_patience=3)"
   ]
  },
  {
   "cell_type": "markdown",
   "id": "36139970-4749-4e38-9323-9f7f64c3694c",
   "metadata": {},
   "source": [
    "### Pseudo labeling"
   ]
  },
  {
   "cell_type": "code",
   "execution_count": 4,
   "id": "3b4660df-3a37-455b-be94-59639f2540b5",
   "metadata": {},
   "outputs": [],
   "source": [
    "pseudo_labeler = nti_rucos.sources.pseudo_labeling.RegressionPseudoLabeler(chosen_proportion=0.15, \n",
    "                                                                            pos_to_neg_proportion=0.5)"
   ]
  },
  {
   "cell_type": "code",
   "execution_count": 5,
   "id": "678e7f59-276a-4961-b618-fc9e9f599718",
   "metadata": {},
   "outputs": [],
   "source": [
    "test_container = nti_rucos.data.RucosContainer(path=os.path.join(DATA_DIR, 'rucos_test.jsonl'), has_labels=False,\n",
    "                                                  query_placeholder_union_mode=\"concatenate\",\n",
    "                                                  )\n",
    "test_dataset = nti_rucos.data.RucosSubmDataset(test_container.get_data(), switch_texts=True)\n",
    "if MOCK:\n",
    "    test_dataset = torch_data.Subset(test_dataset, list(range(1000)))\n",
    "    \n",
    "test_loader = torch_data.DataLoader(test_dataset, batch_size=2)"
   ]
  },
  {
   "cell_type": "code",
   "execution_count": 6,
   "id": "ad8d0829-cc08-43f7-bac2-7eecf0a3d51e",
   "metadata": {},
   "outputs": [],
   "source": [
    "features_labels = pseudo_labeler.run(manager, test_loader)"
   ]
  },
  {
   "cell_type": "code",
   "execution_count": 7,
   "id": "474a90f8-7862-42e9-a724-5f7636b0e5ed",
   "metadata": {},
   "outputs": [
    {
     "data": {
      "text/plain": [
       "[RucosSample(features=RucosSampleFeatures(text1='Как и год назад, 17 февраля 2008 года, когда на улицы Приштины вышли тысячи ликующих людей, власти Косово и на этот раз не пожалели денег на празднование независимости. Однако праздник для многих имеет горький привкус. 17 февраля исполнился год провозглашения независимости Косово. Примечательно, что именно с Косово начался развал Югославской Федерации. 20 лет назад, в связи с 600-летием исторической битвы на Косовом поле, проигранной сербами туркам, тогдашний сербский лидер Слободан Милошевич произнес речь, подогревшую антиалбанские настроения. Более того, год спустя он упразднил автономный статус Косово и таким образом придал импульс сепаратистским движениям в югославских республиках.\\n@highlight\\nБелград обвиняет ЕС в нарушении договоренностей по Косово\\n@highlight\\nЭксперт: Дробление Косово навредит самой Сербии\\n@highlight\\nРоссия противодействует работе миссии Евросоюза в Косово', text2='Слободан Милошевич Благодаря этому компромиссу местные силы безопасности до сих пор контролирует контингент по стабилизации в @placeholder - KFOR, возглавляемый НАТО, а миссия Евросоюза формально подчинена миссии ООН.', placeholder='Слободан Милошевич'), label=False),\n",
       " RucosSample(features=RucosSampleFeatures(text1='Власти ФРГ хотят ограничить въезд в страну афганских беженцев. DW рассказывает о судьбе бывшего переводчика бундесвера, который не может вывезти членов семьи из Афганистана. @header Отрицательный ответ из МИДа\\nАмир, которому 25 лет, связывает свое будущее с Германией и возвращаться в Афганистан не планирует. Не может, даже если бы и хотел - подобный шаг несет угрозу его жизни, говорит Амир. С 2009 до конца 2012 он работал для бундесвера в качестве переводчика, чем вызвал ярость талибов. Ему угрожали, парень получил письмо, в котором талибы обещали ему отомстить за то, что он был \"шпионом\" на службе у врага\".\\n@highlight\\nВ Германии за сутки выявлено более 100 новых заражений коронавирусом\\n@highlight\\nКомментарий: Россия накануне эпидемии - виноватые назначены заранее\\n@highlight\\nТысячи демонстрантов в Гамбурге выступили за прием беженцев', text2='ФРГ Теперь он в безопасности, но по-настоящему счастливым @placeholder назвать нельзя.', placeholder='ФРГ'), label=False)]"
      ]
     },
     "execution_count": 7,
     "metadata": {},
     "output_type": "execute_result"
    }
   ],
   "source": [
    "features_labels[:2]"
   ]
  },
  {
   "cell_type": "code",
   "execution_count": null,
   "id": "3a8080f8-32e0-4b42-84c5-6c0e79ecf7b5",
   "metadata": {},
   "outputs": [],
   "source": []
  },
  {
   "cell_type": "markdown",
   "id": "7da52c2d-89ad-4754-be79-272d6160d1e4",
   "metadata": {},
   "source": [
    "### Submitting"
   ]
  },
  {
   "cell_type": "code",
   "execution_count": 4,
   "id": "76bd07d5",
   "metadata": {},
   "outputs": [
    {
     "data": {
      "application/vnd.jupyter.widget-view+json": {
       "model_id": "317b6ba8f5ff421a8c686003a69035d0",
       "version_major": 2,
       "version_minor": 0
      },
      "text/plain": [
       "HBox(children=(FloatProgress(value=0.0, max=1000.0), HTML(value='')))"
      ]
     },
     "metadata": {},
     "output_type": "display_data"
    },
    {
     "name": "stdout",
     "output_type": "stream",
     "text": [
      "\n"
     ]
    }
   ],
   "source": [
    "# best_manager = trainer.load_best_manager()\n",
    "# best_manager = managing_model.ModelManager.load(saver, '9ab8822d-1d50-4d8d-904b-2e7a70dca78f')\n",
    "best_manager = manager\n",
    "\n",
    "submitter = nti_rucos.rucos_submitting.RucosSubmitter(subm_dir=os.path.join(BASE_DIR, 'submissions'))\n",
    "\n",
    "# test loader is taken from Pseudo labeling step\n",
    "submitter.create_submission(\n",
    "    best_manager, test_loader, subm_file_name=\"subm_single_bert_50000_steps.jsonl\",\n",
    "    )"
   ]
  },
  {
   "cell_type": "code",
   "execution_count": null,
   "id": "e922fb4b",
   "metadata": {},
   "outputs": [],
   "source": []
  }
 ],
 "metadata": {
  "kernelspec": {
   "display_name": "Python 3",
   "language": "python",
   "name": "python3"
  },
  "language_info": {
   "codemirror_mode": {
    "name": "ipython",
    "version": 3
   },
   "file_extension": ".py",
   "mimetype": "text/x-python",
   "name": "python",
   "nbconvert_exporter": "python",
   "pygments_lexer": "ipython3",
   "version": "3.7.9"
  }
 },
 "nbformat": 4,
 "nbformat_minor": 5
}
