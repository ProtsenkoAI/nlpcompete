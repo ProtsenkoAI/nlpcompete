{
 "cells": [
  {
   "cell_type": "markdown",
   "id": "e3012138",
   "metadata": {},
   "source": [
    "## Pipeline steps:\n",
    "1. Load data, prepare for fit\n",
    "2. Load model and other objects for training\n",
    "3. Fit model, get report\n",
    "4. Load and process test data\n",
    "5%load_ext autoreload. Make submission"
   ]
  },
  {
   "cell_type": "code",
   "execution_count": 1,
   "id": "2575728b",
   "metadata": {
    "collapsed": true,
    "jupyter": {
     "outputs_hidden": true
    },
    "tags": []
   },
   "outputs": [
    {
     "name": "stdout",
     "output_type": "stream",
     "text": [
      "2021-04-13 22:20:44.67 INFO in 'deeppavlov.core.common.file'['file'] at line 32: Interpreting 'squad_bert' as '/home/gldsn/.local/share/virtualenvs/nti-ai-pipeline-LA9ij60T/lib/python3.7/site-packages/deeppavlov/configs/squad/squad_bert.json'\n",
      "Requirement already satisfied: tensorflow==1.15.2 in /home/gldsn/.local/share/virtualenvs/nti-ai-pipeline-LA9ij60T/lib/python3.7/site-packages (1.15.2)\n",
      "Requirement already satisfied: tensorboard<1.16.0,>=1.15.0 in /home/gldsn/.local/share/virtualenvs/nti-ai-pipeline-LA9ij60T/lib/python3.7/site-packages (from tensorflow==1.15.2) (1.15.0)\n",
      "Requirement already satisfied: termcolor>=1.1.0 in /home/gldsn/.local/share/virtualenvs/nti-ai-pipeline-LA9ij60T/lib/python3.7/site-packages (from tensorflow==1.15.2) (1.1.0)\n",
      "Requirement already satisfied: keras-preprocessing>=1.0.5 in /home/gldsn/.local/share/virtualenvs/nti-ai-pipeline-LA9ij60T/lib/python3.7/site-packages (from tensorflow==1.15.2) (1.1.2)\n",
      "Requirement already satisfied: wheel>=0.26 in /home/gldsn/.local/share/virtualenvs/nti-ai-pipeline-LA9ij60T/lib/python3.7/site-packages (from tensorflow==1.15.2) (0.36.2)\n",
      "Requirement already satisfied: grpcio>=1.8.6 in /home/gldsn/.local/share/virtualenvs/nti-ai-pipeline-LA9ij60T/lib/python3.7/site-packages (from tensorflow==1.15.2) (1.36.1)\n",
      "Requirement already satisfied: gast==0.2.2 in /home/gldsn/.local/share/virtualenvs/nti-ai-pipeline-LA9ij60T/lib/python3.7/site-packages (from tensorflow==1.15.2) (0.2.2)\n",
      "Requirement already satisfied: google-pasta>=0.1.6 in /home/gldsn/.local/share/virtualenvs/nti-ai-pipeline-LA9ij60T/lib/python3.7/site-packages (from tensorflow==1.15.2) (0.2.0)\n",
      "Requirement already satisfied: opt-einsum>=2.3.2 in /home/gldsn/.local/share/virtualenvs/nti-ai-pipeline-LA9ij60T/lib/python3.7/site-packages (from tensorflow==1.15.2) (3.3.0)\n",
      "Requirement already satisfied: protobuf>=3.6.1 in /home/gldsn/.local/share/virtualenvs/nti-ai-pipeline-LA9ij60T/lib/python3.7/site-packages (from tensorflow==1.15.2) (3.15.7)\n",
      "Requirement already satisfied: tensorflow-estimator==1.15.1 in /home/gldsn/.local/share/virtualenvs/nti-ai-pipeline-LA9ij60T/lib/python3.7/site-packages (from tensorflow==1.15.2) (1.15.1)\n",
      "Requirement already satisfied: wrapt>=1.11.1 in /home/gldsn/.local/share/virtualenvs/nti-ai-pipeline-LA9ij60T/lib/python3.7/site-packages (from tensorflow==1.15.2) (1.12.1)\n",
      "Requirement already satisfied: numpy<2.0,>=1.16.0 in /home/gldsn/.local/share/virtualenvs/nti-ai-pipeline-LA9ij60T/lib/python3.7/site-packages (from tensorflow==1.15.2) (1.18.0)\n",
      "Requirement already satisfied: astor>=0.6.0 in /home/gldsn/.local/share/virtualenvs/nti-ai-pipeline-LA9ij60T/lib/python3.7/site-packages (from tensorflow==1.15.2) (0.8.1)\n",
      "Requirement already satisfied: absl-py>=0.7.0 in /home/gldsn/.local/share/virtualenvs/nti-ai-pipeline-LA9ij60T/lib/python3.7/site-packages (from tensorflow==1.15.2) (0.12.0)\n",
      "Requirement already satisfied: six>=1.10.0 in /home/gldsn/.local/share/virtualenvs/nti-ai-pipeline-LA9ij60T/lib/python3.7/site-packages (from tensorflow==1.15.2) (1.15.0)\n",
      "Requirement already satisfied: keras-applications>=1.0.8 in /home/gldsn/.local/share/virtualenvs/nti-ai-pipeline-LA9ij60T/lib/python3.7/site-packages (from tensorflow==1.15.2) (1.0.8)\n",
      "Requirement already satisfied: six>=1.10.0 in /home/gldsn/.local/share/virtualenvs/nti-ai-pipeline-LA9ij60T/lib/python3.7/site-packages (from tensorflow==1.15.2) (1.15.0)\n",
      "Requirement already satisfied: six>=1.10.0 in /home/gldsn/.local/share/virtualenvs/nti-ai-pipeline-LA9ij60T/lib/python3.7/site-packages (from tensorflow==1.15.2) (1.15.0)\n",
      "Requirement already satisfied: six>=1.10.0 in /home/gldsn/.local/share/virtualenvs/nti-ai-pipeline-LA9ij60T/lib/python3.7/site-packages (from tensorflow==1.15.2) (1.15.0)\n",
      "Requirement already satisfied: h5py in /home/gldsn/.local/share/virtualenvs/nti-ai-pipeline-LA9ij60T/lib/python3.7/site-packages (from keras-applications>=1.0.8->tensorflow==1.15.2) (2.10.0)\n",
      "Requirement already satisfied: numpy<2.0,>=1.16.0 in /home/gldsn/.local/share/virtualenvs/nti-ai-pipeline-LA9ij60T/lib/python3.7/site-packages (from tensorflow==1.15.2) (1.18.0)\n",
      "Requirement already satisfied: numpy<2.0,>=1.16.0 in /home/gldsn/.local/share/virtualenvs/nti-ai-pipeline-LA9ij60T/lib/python3.7/site-packages (from tensorflow==1.15.2) (1.18.0)\n",
      "Requirement already satisfied: six>=1.10.0 in /home/gldsn/.local/share/virtualenvs/nti-ai-pipeline-LA9ij60T/lib/python3.7/site-packages (from tensorflow==1.15.2) (1.15.0)\n",
      "Requirement already satisfied: numpy<2.0,>=1.16.0 in /home/gldsn/.local/share/virtualenvs/nti-ai-pipeline-LA9ij60T/lib/python3.7/site-packages (from tensorflow==1.15.2) (1.18.0)\n",
      "Requirement already satisfied: six>=1.10.0 in /home/gldsn/.local/share/virtualenvs/nti-ai-pipeline-LA9ij60T/lib/python3.7/site-packages (from tensorflow==1.15.2) (1.15.0)\n",
      "Requirement already satisfied: numpy<2.0,>=1.16.0 in /home/gldsn/.local/share/virtualenvs/nti-ai-pipeline-LA9ij60T/lib/python3.7/site-packages (from tensorflow==1.15.2) (1.18.0)\n",
      "Requirement already satisfied: six>=1.10.0 in /home/gldsn/.local/share/virtualenvs/nti-ai-pipeline-LA9ij60T/lib/python3.7/site-packages (from tensorflow==1.15.2) (1.15.0)\n",
      "Requirement already satisfied: markdown>=2.6.8 in /home/gldsn/.local/share/virtualenvs/nti-ai-pipeline-LA9ij60T/lib/python3.7/site-packages (from tensorboard<1.16.0,>=1.15.0->tensorflow==1.15.2) (3.3.4)\n",
      "Requirement already satisfied: werkzeug>=0.11.15 in /home/gldsn/.local/share/virtualenvs/nti-ai-pipeline-LA9ij60T/lib/python3.7/site-packages (from tensorboard<1.16.0,>=1.15.0->tensorflow==1.15.2) (1.0.1)\n",
      "Requirement already satisfied: wheel>=0.26 in /home/gldsn/.local/share/virtualenvs/nti-ai-pipeline-LA9ij60T/lib/python3.7/site-packages (from tensorflow==1.15.2) (0.36.2)\n",
      "Requirement already satisfied: numpy<2.0,>=1.16.0 in /home/gldsn/.local/share/virtualenvs/nti-ai-pipeline-LA9ij60T/lib/python3.7/site-packages (from tensorflow==1.15.2) (1.18.0)\n",
      "Requirement already satisfied: setuptools>=41.0.0 in /home/gldsn/.local/share/virtualenvs/nti-ai-pipeline-LA9ij60T/lib/python3.7/site-packages (from tensorboard<1.16.0,>=1.15.0->tensorflow==1.15.2) (51.0.0)\n",
      "Requirement already satisfied: grpcio>=1.8.6 in /home/gldsn/.local/share/virtualenvs/nti-ai-pipeline-LA9ij60T/lib/python3.7/site-packages (from tensorflow==1.15.2) (1.36.1)\n",
      "Requirement already satisfied: absl-py>=0.7.0 in /home/gldsn/.local/share/virtualenvs/nti-ai-pipeline-LA9ij60T/lib/python3.7/site-packages (from tensorflow==1.15.2) (0.12.0)\n",
      "Requirement already satisfied: six>=1.10.0 in /home/gldsn/.local/share/virtualenvs/nti-ai-pipeline-LA9ij60T/lib/python3.7/site-packages (from tensorflow==1.15.2) (1.15.0)\n",
      "Requirement already satisfied: protobuf>=3.6.1 in /home/gldsn/.local/share/virtualenvs/nti-ai-pipeline-LA9ij60T/lib/python3.7/site-packages (from tensorflow==1.15.2) (3.15.7)\n",
      "Requirement already satisfied: importlib-metadata in /home/gldsn/.local/share/virtualenvs/nti-ai-pipeline-LA9ij60T/lib/python3.7/site-packages (from markdown>=2.6.8->tensorboard<1.16.0,>=1.15.0->tensorflow==1.15.2) (3.10.1)\n",
      "Requirement already satisfied: zipp>=0.5 in /home/gldsn/.local/share/virtualenvs/nti-ai-pipeline-LA9ij60T/lib/python3.7/site-packages (from importlib-metadata->markdown>=2.6.8->tensorboard<1.16.0,>=1.15.0->tensorflow==1.15.2) (3.4.1)\n",
      "Requirement already satisfied: typing-extensions>=3.6.4 in /home/gldsn/.local/share/virtualenvs/nti-ai-pipeline-LA9ij60T/lib/python3.7/site-packages (from importlib-metadata->markdown>=2.6.8->tensorboard<1.16.0,>=1.15.0->tensorflow==1.15.2) (3.7.4.3)\n",
      "Collecting git+https://github.com/deepmipt/bert.git@feat/multi_gpu\n",
      "  Cloning https://github.com/deepmipt/bert.git (to revision feat/multi_gpu) to /tmp/pip-req-build-xhi_jyn3\n"
     ]
    }
   ],
   "source": [
    "!python3 -m deeppavlov install squad_bert"
   ]
  },
  {
   "cell_type": "code",
   "execution_count": 2,
   "id": "b99dcb70",
   "metadata": {},
   "outputs": [],
   "source": [
    "import os\n",
    "from torch import cuda, device\n",
    "\n",
    "BASE_DIR = \"./../../../\"\n",
    "DATA_DIR = os.path.join(BASE_DIR, \"data/rucos\")\n",
    "SOURCES_DIR = os.path.join(BASE_DIR, \"nti_ai_pipeline\")\n",
    "TRAIN_FILE_PATH = os.path.join(DATA_DIR, \"rucos_train.jsonl\")\n",
    "VAL_FILE_PATH = os.path.join(DATA_DIR, \"rucos_val.jsonl\")\n",
    "TEST_FILE_PATH = os.path.join(DATA_DIR, \"rucos_test.jsonl\")\n",
    "\n",
    "BATCH_SIZE = 2\n",
    "DEVICE = device(\"cuda\" if cuda.is_available() else \"cpu\")\n",
    "TRANSFORMER_NAME = \"DeepPavlov/rubert-base-cased\""
   ]
  },
  {
   "cell_type": "code",
   "execution_count": 3,
   "id": "7ae2c75e",
   "metadata": {},
   "outputs": [],
   "source": [
    "import sys\n",
    "import importlib\n",
    "import torch\n",
    "\n",
    "sys.path.append(SOURCES_DIR)\n",
    "\n",
    "import nti_rucos\n",
    "import pipeline\n",
    "from torch.utils import data as torch_data\n",
    "from nti_rucos import modeling as rucos_modeling\n",
    "from pipeline.saving import local_saver\n",
    "\n",
    "\n",
    "\n",
    "my_modules = [nti_rucos, pipeline, rucos_modeling, local_saver]\n",
    "\n",
    "for module in my_modules:\n",
    "    importlib.reload(module)"
   ]
  },
  {
   "cell_type": "code",
   "execution_count": 4,
   "id": "b98c2c5e",
   "metadata": {
    "tags": []
   },
   "outputs": [],
   "source": [
    "container = nti_rucos.data.RucosContainer(TRAIN_FILE_PATH, VAL_FILE_PATH)\n",
    "train_data, test_data = container.train_test_split(shuffle=True)\n",
    "\n",
    "train_dataset = nti_rucos.data.RucosTrainDataset(train_data)\n",
    "val_dataset = nti_rucos.data.RucosValDataset(test_data)\n",
    "\n",
    "train_loader = torch_data.DataLoader(train_dataset, batch_size=BATCH_SIZE)\n",
    "val_loader = torch_data.DataLoader(val_dataset, batch_size=BATCH_SIZE)"
   ]
  },
  {
   "cell_type": "code",
   "execution_count": 5,
   "id": "2d8cad99",
   "metadata": {
    "tags": []
   },
   "outputs": [],
   "source": [
    "proc = nti_rucos.modeling.RucosProcessor(TRANSFORMER_NAME, use_ner=False)\n",
    "model = rucos_modeling.SentPairBinaryClassifier(\n",
    "    TRANSFORMER_NAME,\n",
    "    droprate=0.2, \n",
    "    use_ner=False\n",
    ")\n",
    "saver = pipeline.saving.local_saver.LocalSaver(save_dir='./saved_models')\n",
    "\n",
    "manager = pipeline.modeling.ModelManager(model, proc, DEVICE, saver)"
   ]
  },
  {
   "cell_type": "code",
   "execution_count": 6,
   "id": "c4fa9961",
   "metadata": {
    "tags": []
   },
   "outputs": [],
   "source": [
    "validator = nti_rucos.evaluating.RucosValidator()\n",
    "# eval_val = validator.eval(manager, val_loader)"
   ]
  },
  {
   "cell_type": "code",
   "execution_count": 7,
   "id": "6d234d98",
   "metadata": {},
   "outputs": [],
   "source": [
    "weights_updater = pipeline.WeightsUpdater(lr=7e-6, warmup=200, lr_end=1.7e-6, accum_iters=6, weight_decay=0.04, optimizer_class=torch.optim.AdamW) # NOTE: had set to 0 from 1e-2\n",
    "trainer = pipeline.training.Trainer(validator, weights_updater)"
   ]
  },
  {
   "cell_type": "code",
   "execution_count": 8,
   "id": "8c877c96",
   "metadata": {
    "tags": []
   },
   "outputs": [
    {
     "data": {
      "application/vnd.jupyter.widget-view+json": {
       "model_id": "8d8423b7a6cc46809213b602ceec7b6a",
       "version_major": 2,
       "version_minor": 0
      },
      "text/plain": [
       "HBox(children=(FloatProgress(value=0.0, max=275123.0), HTML(value='')))"
      ]
     },
     "metadata": {},
     "output_type": "display_data"
    },
    {
     "name": "stdout",
     "output_type": "stream",
     "text": [
      "batch [RucosSampleFeatures(text1=('На заседании в четверг, 16 ноября, комитет по соответствию МОК признал Российское антидопинговое агентство \"не соответствующим кодексу\" организации.', 'На заседании в четверг, 16 ноября, комитет по соответствию Лозанне признал Российское антидопинговое агентство \"не соответствующим кодексу\" организации.'), text2=('На заседании МОК в Лозанне 5 декабря будет решено, какие санкции ждут РФ за манипуляции с допинг-пробами. Среди возможных вариантов - отстранение от участия в Олимпиаде в Пхенчхане. Международный олимпийский комитет (МОК) примет решение по поводу санкций в отношении России за мошенничество с допинг-пробами на Олимпиаде в Сочи в 2014 году на заседании в Лозанне, которое состоится 5 декабря. Об этом МОК сообщил в пятницу, 17 ноября. Всемирное антидопинговое агентство в преддверии Олимпиады в Пхенчхане решило не реаблитировать Российское антидопинговое агентство, сообщили в WADA по итогам заседания в Сеуле. ()\\nСборную России следует исключить из числа участников зимней Олимпиады-2018, считает Вальтер Трёгер.\\n@highlight\\nВ Германии за сутки выявлено более 100 новых заражений коронавирусом\\n@highlight\\nКомментарий: Россия накануне эпидемии - виноватые назначены заранее\\n@highlight\\nТысячи демонстрантов в Гамбурге выступили за прием беженцев', 'На заседании МОК в Лозанне 5 декабря будет решено, какие санкции ждут РФ за манипуляции с допинг-пробами. Среди возможных вариантов - отстранение от участия в Олимпиаде в Пхенчхане. Международный олимпийский комитет (МОК) примет решение по поводу санкций в отношении России за мошенничество с допинг-пробами на Олимпиаде в Сочи в 2014 году на заседании в Лозанне, которое состоится 5 декабря. Об этом МОК сообщил в пятницу, 17 ноября. Всемирное антидопинговое агентство в преддверии Олимпиады в Пхенчхане решило не реаблитировать Российское антидопинговое агентство, сообщили в WADA по итогам заседания в Сеуле. ()\\nСборную России следует исключить из числа участников зимней Олимпиады-2018, считает Вальтер Трёгер.\\n@highlight\\nВ Германии за сутки выявлено более 100 новых заражений коронавирусом\\n@highlight\\nКомментарий: Россия накануне эпидемии - виноватые назначены заранее\\n@highlight\\nТысячи демонстрантов в Гамбурге выступили за прием беженцев'), placeholder=('МОК', 'Лозанне')), tensor([0, 0])]\n",
      "batch [RucosSampleFeatures(text1=('На заседании в четверг, 16 ноября, комитет по соответствию РФ признал Российское антидопинговое агентство \"не соответствующим кодексу\" организации.', 'На заседании в четверг, 16 ноября, комитет по соответствию Пхенчхане признал Российское антидопинговое агентство \"не соответствующим кодексу\" организации.'), text2=('На заседании МОК в Лозанне 5 декабря будет решено, какие санкции ждут РФ за манипуляции с допинг-пробами. Среди возможных вариантов - отстранение от участия в Олимпиаде в Пхенчхане. Международный олимпийский комитет (МОК) примет решение по поводу санкций в отношении России за мошенничество с допинг-пробами на Олимпиаде в Сочи в 2014 году на заседании в Лозанне, которое состоится 5 декабря. Об этом МОК сообщил в пятницу, 17 ноября. Всемирное антидопинговое агентство в преддверии Олимпиады в Пхенчхане решило не реаблитировать Российское антидопинговое агентство, сообщили в WADA по итогам заседания в Сеуле. ()\\nСборную России следует исключить из числа участников зимней Олимпиады-2018, считает Вальтер Трёгер.\\n@highlight\\nВ Германии за сутки выявлено более 100 новых заражений коронавирусом\\n@highlight\\nКомментарий: Россия накануне эпидемии - виноватые назначены заранее\\n@highlight\\nТысячи демонстрантов в Гамбурге выступили за прием беженцев', 'На заседании МОК в Лозанне 5 декабря будет решено, какие санкции ждут РФ за манипуляции с допинг-пробами. Среди возможных вариантов - отстранение от участия в Олимпиаде в Пхенчхане. Международный олимпийский комитет (МОК) примет решение по поводу санкций в отношении России за мошенничество с допинг-пробами на Олимпиаде в Сочи в 2014 году на заседании в Лозанне, которое состоится 5 декабря. Об этом МОК сообщил в пятницу, 17 ноября. Всемирное антидопинговое агентство в преддверии Олимпиады в Пхенчхане решило не реаблитировать Российское антидопинговое агентство, сообщили в WADA по итогам заседания в Сеуле. ()\\nСборную России следует исключить из числа участников зимней Олимпиады-2018, считает Вальтер Трёгер.\\n@highlight\\nВ Германии за сутки выявлено более 100 новых заражений коронавирусом\\n@highlight\\nКомментарий: Россия накануне эпидемии - виноватые назначены заранее\\n@highlight\\nТысячи демонстрантов в Гамбурге выступили за прием беженцев'), placeholder=('РФ', 'Пхенчхане')), tensor([0, 0])]\n",
      "batch [RucosSampleFeatures(text1=('На заседании в четверг, 16 ноября, комитет по соответствию России признал Российское антидопинговое агентство \"не соответствующим кодексу\" организации.', 'На заседании в четверг, 16 ноября, комитет по соответствию Сочи признал Российское антидопинговое агентство \"не соответствующим кодексу\" организации.'), text2=('На заседании МОК в Лозанне 5 декабря будет решено, какие санкции ждут РФ за манипуляции с допинг-пробами. Среди возможных вариантов - отстранение от участия в Олимпиаде в Пхенчхане. Международный олимпийский комитет (МОК) примет решение по поводу санкций в отношении России за мошенничество с допинг-пробами на Олимпиаде в Сочи в 2014 году на заседании в Лозанне, которое состоится 5 декабря. Об этом МОК сообщил в пятницу, 17 ноября. Всемирное антидопинговое агентство в преддверии Олимпиады в Пхенчхане решило не реаблитировать Российское антидопинговое агентство, сообщили в WADA по итогам заседания в Сеуле. ()\\nСборную России следует исключить из числа участников зимней Олимпиады-2018, считает Вальтер Трёгер.\\n@highlight\\nВ Германии за сутки выявлено более 100 новых заражений коронавирусом\\n@highlight\\nКомментарий: Россия накануне эпидемии - виноватые назначены заранее\\n@highlight\\nТысячи демонстрантов в Гамбурге выступили за прием беженцев', 'На заседании МОК в Лозанне 5 декабря будет решено, какие санкции ждут РФ за манипуляции с допинг-пробами. Среди возможных вариантов - отстранение от участия в Олимпиаде в Пхенчхане. Международный олимпийский комитет (МОК) примет решение по поводу санкций в отношении России за мошенничество с допинг-пробами на Олимпиаде в Сочи в 2014 году на заседании в Лозанне, которое состоится 5 декабря. Об этом МОК сообщил в пятницу, 17 ноября. Всемирное антидопинговое агентство в преддверии Олимпиады в Пхенчхане решило не реаблитировать Российское антидопинговое агентство, сообщили в WADA по итогам заседания в Сеуле. ()\\nСборную России следует исключить из числа участников зимней Олимпиады-2018, считает Вальтер Трёгер.\\n@highlight\\nВ Германии за сутки выявлено более 100 новых заражений коронавирусом\\n@highlight\\nКомментарий: Россия накануне эпидемии - виноватые назначены заранее\\n@highlight\\nТысячи демонстрантов в Гамбурге выступили за прием беженцев'), placeholder=('России', 'Сочи')), tensor([0, 0])]\n",
      "batch [RucosSampleFeatures(text1=('На заседании в четверг, 16 ноября, комитет по соответствию Всемирное антидопинговое агентство признал Российское антидопинговое агентство \"не соответствующим кодексу\" организации.', 'На заседании в четверг, 16 ноября, комитет по соответствию Российское антидопинговое агентство признал Российское антидопинговое агентство \"не соответствующим кодексу\" организации.'), text2=('На заседании МОК в Лозанне 5 декабря будет решено, какие санкции ждут РФ за манипуляции с допинг-пробами. Среди возможных вариантов - отстранение от участия в Олимпиаде в Пхенчхане. Международный олимпийский комитет (МОК) примет решение по поводу санкций в отношении России за мошенничество с допинг-пробами на Олимпиаде в Сочи в 2014 году на заседании в Лозанне, которое состоится 5 декабря. Об этом МОК сообщил в пятницу, 17 ноября. Всемирное антидопинговое агентство в преддверии Олимпиады в Пхенчхане решило не реаблитировать Российское антидопинговое агентство, сообщили в WADA по итогам заседания в Сеуле. ()\\nСборную России следует исключить из числа участников зимней Олимпиады-2018, считает Вальтер Трёгер.\\n@highlight\\nВ Германии за сутки выявлено более 100 новых заражений коронавирусом\\n@highlight\\nКомментарий: Россия накануне эпидемии - виноватые назначены заранее\\n@highlight\\nТысячи демонстрантов в Гамбурге выступили за прием беженцев', 'На заседании МОК в Лозанне 5 декабря будет решено, какие санкции ждут РФ за манипуляции с допинг-пробами. Среди возможных вариантов - отстранение от участия в Олимпиаде в Пхенчхане. Международный олимпийский комитет (МОК) примет решение по поводу санкций в отношении России за мошенничество с допинг-пробами на Олимпиаде в Сочи в 2014 году на заседании в Лозанне, которое состоится 5 декабря. Об этом МОК сообщил в пятницу, 17 ноября. Всемирное антидопинговое агентство в преддверии Олимпиады в Пхенчхане решило не реаблитировать Российское антидопинговое агентство, сообщили в WADA по итогам заседания в Сеуле. ()\\nСборную России следует исключить из числа участников зимней Олимпиады-2018, считает Вальтер Трёгер.\\n@highlight\\nВ Германии за сутки выявлено более 100 новых заражений коронавирусом\\n@highlight\\nКомментарий: Россия накануне эпидемии - виноватые назначены заранее\\n@highlight\\nТысячи демонстрантов в Гамбурге выступили за прием беженцев'), placeholder=('Всемирное антидопинговое агентство', 'Российское антидопинговое агентство')), tensor([0, 0])]\n",
      "batch [RucosSampleFeatures(text1=('На заседании в четверг, 16 ноября, комитет по соответствию WADA признал Российское антидопинговое агентство \"не соответствующим кодексу\" организации.', 'На заседании в четверг, 16 ноября, комитет по соответствию Сеуле признал Российское антидопинговое агентство \"не соответствующим кодексу\" организации.'), text2=('На заседании МОК в Лозанне 5 декабря будет решено, какие санкции ждут РФ за манипуляции с допинг-пробами. Среди возможных вариантов - отстранение от участия в Олимпиаде в Пхенчхане. Международный олимпийский комитет (МОК) примет решение по поводу санкций в отношении России за мошенничество с допинг-пробами на Олимпиаде в Сочи в 2014 году на заседании в Лозанне, которое состоится 5 декабря. Об этом МОК сообщил в пятницу, 17 ноября. Всемирное антидопинговое агентство в преддверии Олимпиады в Пхенчхане решило не реаблитировать Российское антидопинговое агентство, сообщили в WADA по итогам заседания в Сеуле. ()\\nСборную России следует исключить из числа участников зимней Олимпиады-2018, считает Вальтер Трёгер.\\n@highlight\\nВ Германии за сутки выявлено более 100 новых заражений коронавирусом\\n@highlight\\nКомментарий: Россия накануне эпидемии - виноватые назначены заранее\\n@highlight\\nТысячи демонстрантов в Гамбурге выступили за прием беженцев', 'На заседании МОК в Лозанне 5 декабря будет решено, какие санкции ждут РФ за манипуляции с допинг-пробами. Среди возможных вариантов - отстранение от участия в Олимпиаде в Пхенчхане. Международный олимпийский комитет (МОК) примет решение по поводу санкций в отношении России за мошенничество с допинг-пробами на Олимпиаде в Сочи в 2014 году на заседании в Лозанне, которое состоится 5 декабря. Об этом МОК сообщил в пятницу, 17 ноября. Всемирное антидопинговое агентство в преддверии Олимпиады в Пхенчхане решило не реаблитировать Российское антидопинговое агентство, сообщили в WADA по итогам заседания в Сеуле. ()\\nСборную России следует исключить из числа участников зимней Олимпиады-2018, считает Вальтер Трёгер.\\n@highlight\\nВ Германии за сутки выявлено более 100 новых заражений коронавирусом\\n@highlight\\nКомментарий: Россия накануне эпидемии - виноватые назначены заранее\\n@highlight\\nТысячи демонстрантов в Гамбурге выступили за прием беженцев'), placeholder=('WADA', 'Сеуле')), tensor([1, 0])]\n",
      "batch [RucosSampleFeatures(text1=('На заседании в четверг, 16 ноября, комитет по соответствию Вальтер Трёгер признал Российское антидопинговое агентство \"не соответствующим кодексу\" организации.', 'На заседании в четверг, 16 ноября, комитет по соответствию Германии признал Российское антидопинговое агентство \"не соответствующим кодексу\" организации.'), text2=('На заседании МОК в Лозанне 5 декабря будет решено, какие санкции ждут РФ за манипуляции с допинг-пробами. Среди возможных вариантов - отстранение от участия в Олимпиаде в Пхенчхане. Международный олимпийский комитет (МОК) примет решение по поводу санкций в отношении России за мошенничество с допинг-пробами на Олимпиаде в Сочи в 2014 году на заседании в Лозанне, которое состоится 5 декабря. Об этом МОК сообщил в пятницу, 17 ноября. Всемирное антидопинговое агентство в преддверии Олимпиады в Пхенчхане решило не реаблитировать Российское антидопинговое агентство, сообщили в WADA по итогам заседания в Сеуле. ()\\nСборную России следует исключить из числа участников зимней Олимпиады-2018, считает Вальтер Трёгер.\\n@highlight\\nВ Германии за сутки выявлено более 100 новых заражений коронавирусом\\n@highlight\\nКомментарий: Россия накануне эпидемии - виноватые назначены заранее\\n@highlight\\nТысячи демонстрантов в Гамбурге выступили за прием беженцев', 'На заседании МОК в Лозанне 5 декабря будет решено, какие санкции ждут РФ за манипуляции с допинг-пробами. Среди возможных вариантов - отстранение от участия в Олимпиаде в Пхенчхане. Международный олимпийский комитет (МОК) примет решение по поводу санкций в отношении России за мошенничество с допинг-пробами на Олимпиаде в Сочи в 2014 году на заседании в Лозанне, которое состоится 5 декабря. Об этом МОК сообщил в пятницу, 17 ноября. Всемирное антидопинговое агентство в преддверии Олимпиады в Пхенчхане решило не реаблитировать Российское антидопинговое агентство, сообщили в WADA по итогам заседания в Сеуле. ()\\nСборную России следует исключить из числа участников зимней Олимпиады-2018, считает Вальтер Трёгер.\\n@highlight\\nВ Германии за сутки выявлено более 100 новых заражений коронавирусом\\n@highlight\\nКомментарий: Россия накануне эпидемии - виноватые назначены заранее\\n@highlight\\nТысячи демонстрантов в Гамбурге выступили за прием беженцев'), placeholder=('Вальтер Трёгер', 'Германии')), tensor([0, 0])]\n",
      "batch [RucosSampleFeatures(text1=('На заседании в четверг, 16 ноября, комитет по соответствию Россия признал Российское антидопинговое агентство \"не соответствующим кодексу\" организации.', 'На заседании в четверг, 16 ноября, комитет по соответствию Гамбурге признал Российское антидопинговое агентство \"не соответствующим кодексу\" организации.'), text2=('На заседании МОК в Лозанне 5 декабря будет решено, какие санкции ждут РФ за манипуляции с допинг-пробами. Среди возможных вариантов - отстранение от участия в Олимпиаде в Пхенчхане. Международный олимпийский комитет (МОК) примет решение по поводу санкций в отношении России за мошенничество с допинг-пробами на Олимпиаде в Сочи в 2014 году на заседании в Лозанне, которое состоится 5 декабря. Об этом МОК сообщил в пятницу, 17 ноября. Всемирное антидопинговое агентство в преддверии Олимпиады в Пхенчхане решило не реаблитировать Российское антидопинговое агентство, сообщили в WADA по итогам заседания в Сеуле. ()\\nСборную России следует исключить из числа участников зимней Олимпиады-2018, считает Вальтер Трёгер.\\n@highlight\\nВ Германии за сутки выявлено более 100 новых заражений коронавирусом\\n@highlight\\nКомментарий: Россия накануне эпидемии - виноватые назначены заранее\\n@highlight\\nТысячи демонстрантов в Гамбурге выступили за прием беженцев', 'На заседании МОК в Лозанне 5 декабря будет решено, какие санкции ждут РФ за манипуляции с допинг-пробами. Среди возможных вариантов - отстранение от участия в Олимпиаде в Пхенчхане. Международный олимпийский комитет (МОК) примет решение по поводу санкций в отношении России за мошенничество с допинг-пробами на Олимпиаде в Сочи в 2014 году на заседании в Лозанне, которое состоится 5 декабря. Об этом МОК сообщил в пятницу, 17 ноября. Всемирное антидопинговое агентство в преддверии Олимпиады в Пхенчхане решило не реаблитировать Российское антидопинговое агентство, сообщили в WADA по итогам заседания в Сеуле. ()\\nСборную России следует исключить из числа участников зимней Олимпиады-2018, считает Вальтер Трёгер.\\n@highlight\\nВ Германии за сутки выявлено более 100 новых заражений коронавирусом\\n@highlight\\nКомментарий: Россия накануне эпидемии - виноватые назначены заранее\\n@highlight\\nТысячи демонстрантов в Гамбурге выступили за прием беженцев'), placeholder=('Россия', 'Гамбурге')), tensor([0, 0])]\n"
     ]
    },
    {
     "name": "stderr",
     "output_type": "stream",
     "text": [
      "ERROR:root:Internal Python error in the inspect module.\n",
      "Below is the traceback from this internal error.\n",
      "\n"
     ]
    },
    {
     "name": "stdout",
     "output_type": "stream",
     "text": [
      "Traceback (most recent call last):\n",
      "  File \"/home/gldsn/.local/share/virtualenvs/nti-ai-pipeline-LA9ij60T/lib/python3.7/site-packages/IPython/core/interactiveshell.py\", line 3437, in run_code\n",
      "    exec(code_obj, self.user_global_ns, self.user_ns)\n",
      "  File \"<ipython-input-8-2fad72a50e56>\", line 6, in <module>\n",
      "    trainer.fit(train_loader, val_loader, manager, max_step=50001, steps_betw_evals=5000, stop_patience=3)\n",
      "  File \"./../../../nti_ai_pipeline/pipeline/training/train.py\", line 40, in fit\n",
      "    loss_val = self.weights_updater.fit_with_batch(model_manager, batch)\n",
      "  File \"./../../../nti_ai_pipeline/pipeline/training/weights_updater.py\", line 56, in fit_with_batch\n",
      "    loss = self._calc_loss(manager, inputs, labels)\n",
      "  File \"./../../../nti_ai_pipeline/pipeline/training/weights_updater.py\", line 67, in _calc_loss\n",
      "    preds, labels = manager.preproc_forward(inputs, labels)\n",
      "  File \"./../../../nti_ai_pipeline/pipeline/modeling/managing_model.py\", line 46, in preproc_forward\n",
      "    preds_raw = self.model(out.features)\n",
      "  File \"/home/gldsn/.local/share/virtualenvs/nti-ai-pipeline-LA9ij60T/lib/python3.7/site-packages/torch/nn/modules/module.py\", line 889, in _call_impl\n",
      "    result = self.forward(*input, **kwargs)\n",
      "  File \"./../../../nti_ai_pipeline/nti_rucos/sources/modeling/sent_pair_binary_classifier.py\", line 54, in forward\n",
      "    x = self.get_transformer()(*transformer_inputs)\n",
      "  File \"/home/gldsn/.local/share/virtualenvs/nti-ai-pipeline-LA9ij60T/lib/python3.7/site-packages/torch/nn/modules/module.py\", line 889, in _call_impl\n",
      "    result = self.forward(*input, **kwargs)\n",
      "  File \"/home/gldsn/.local/share/virtualenvs/nti-ai-pipeline-LA9ij60T/lib/python3.7/site-packages/transformers/models/bert/modeling_bert.py\", line 981, in forward\n",
      "    return_dict=return_dict,\n",
      "  File \"/home/gldsn/.local/share/virtualenvs/nti-ai-pipeline-LA9ij60T/lib/python3.7/site-packages/torch/nn/modules/module.py\", line 889, in _call_impl\n",
      "    result = self.forward(*input, **kwargs)\n",
      "  File \"/home/gldsn/.local/share/virtualenvs/nti-ai-pipeline-LA9ij60T/lib/python3.7/site-packages/transformers/models/bert/modeling_bert.py\", line 575, in forward\n",
      "    output_attentions,\n",
      "  File \"/home/gldsn/.local/share/virtualenvs/nti-ai-pipeline-LA9ij60T/lib/python3.7/site-packages/torch/nn/modules/module.py\", line 889, in _call_impl\n",
      "    result = self.forward(*input, **kwargs)\n",
      "  File \"/home/gldsn/.local/share/virtualenvs/nti-ai-pipeline-LA9ij60T/lib/python3.7/site-packages/transformers/models/bert/modeling_bert.py\", line 497, in forward\n",
      "    self.feed_forward_chunk, self.chunk_size_feed_forward, self.seq_len_dim, attention_output\n",
      "  File \"/home/gldsn/.local/share/virtualenvs/nti-ai-pipeline-LA9ij60T/lib/python3.7/site-packages/transformers/modeling_utils.py\", line 1817, in apply_chunking_to_forward\n",
      "    return forward_fn(*input_tensors)\n",
      "  File \"/home/gldsn/.local/share/virtualenvs/nti-ai-pipeline-LA9ij60T/lib/python3.7/site-packages/transformers/models/bert/modeling_bert.py\", line 509, in feed_forward_chunk\n",
      "    layer_output = self.output(intermediate_output, attention_output)\n",
      "  File \"/home/gldsn/.local/share/virtualenvs/nti-ai-pipeline-LA9ij60T/lib/python3.7/site-packages/torch/nn/modules/module.py\", line 889, in _call_impl\n",
      "    result = self.forward(*input, **kwargs)\n",
      "  File \"/home/gldsn/.local/share/virtualenvs/nti-ai-pipeline-LA9ij60T/lib/python3.7/site-packages/transformers/models/bert/modeling_bert.py\", line 424, in forward\n",
      "    hidden_states = self.dense(hidden_states)\n",
      "  File \"/home/gldsn/.local/share/virtualenvs/nti-ai-pipeline-LA9ij60T/lib/python3.7/site-packages/torch/nn/modules/module.py\", line 889, in _call_impl\n",
      "    result = self.forward(*input, **kwargs)\n",
      "  File \"/home/gldsn/.local/share/virtualenvs/nti-ai-pipeline-LA9ij60T/lib/python3.7/site-packages/torch/nn/modules/linear.py\", line 94, in forward\n",
      "    return F.linear(input, self.weight, self.bias)\n",
      "  File \"/home/gldsn/.local/share/virtualenvs/nti-ai-pipeline-LA9ij60T/lib/python3.7/site-packages/torch/nn/functional.py\", line 1753, in linear\n",
      "    return torch._C._nn.linear(input, weight, bias)\n",
      "KeyboardInterrupt\n",
      "\n",
      "During handling of the above exception, another exception occurred:\n",
      "\n",
      "Traceback (most recent call last):\n",
      "  File \"/home/gldsn/.local/share/virtualenvs/nti-ai-pipeline-LA9ij60T/lib/python3.7/site-packages/IPython/core/interactiveshell.py\", line 2061, in showtraceback\n",
      "    stb = value._render_traceback_()\n",
      "AttributeError: 'KeyboardInterrupt' object has no attribute '_render_traceback_'\n",
      "\n",
      "During handling of the above exception, another exception occurred:\n",
      "\n",
      "Traceback (most recent call last):\n",
      "  File \"/home/gldsn/.local/share/virtualenvs/nti-ai-pipeline-LA9ij60T/lib/python3.7/site-packages/IPython/core/ultratb.py\", line 1101, in get_records\n",
      "    return _fixed_getinnerframes(etb, number_of_lines_of_context, tb_offset)\n",
      "  File \"/home/gldsn/.local/share/virtualenvs/nti-ai-pipeline-LA9ij60T/lib/python3.7/site-packages/IPython/core/ultratb.py\", line 248, in wrapped\n",
      "    return f(*args, **kwargs)\n",
      "  File \"/home/gldsn/.local/share/virtualenvs/nti-ai-pipeline-LA9ij60T/lib/python3.7/site-packages/IPython/core/ultratb.py\", line 281, in _fixed_getinnerframes\n",
      "    records = fix_frame_records_filenames(inspect.getinnerframes(etb, context))\n",
      "  File \"/home/gldsn/.pyenv/versions/3.7.9/lib/python3.7/inspect.py\", line 1502, in getinnerframes\n",
      "    frameinfo = (tb.tb_frame,) + getframeinfo(tb, context)\n",
      "  File \"/home/gldsn/.pyenv/versions/3.7.9/lib/python3.7/inspect.py\", line 1460, in getframeinfo\n",
      "    filename = getsourcefile(frame) or getfile(frame)\n",
      "  File \"/home/gldsn/.pyenv/versions/3.7.9/lib/python3.7/inspect.py\", line 696, in getsourcefile\n",
      "    if getattr(getmodule(object, filename), '__loader__', None) is not None:\n",
      "  File \"/home/gldsn/.pyenv/versions/3.7.9/lib/python3.7/inspect.py\", line 739, in getmodule\n",
      "    f = getabsfile(module)\n",
      "  File \"/home/gldsn/.pyenv/versions/3.7.9/lib/python3.7/inspect.py\", line 708, in getabsfile\n",
      "    _filename = getsourcefile(object) or getfile(object)\n",
      "  File \"/home/gldsn/.pyenv/versions/3.7.9/lib/python3.7/inspect.py\", line 693, in getsourcefile\n",
      "    if os.path.exists(filename):\n",
      "  File \"/home/gldsn/.pyenv/versions/3.7.9/lib/python3.7/genericpath.py\", line 19, in exists\n",
      "    os.stat(path)\n",
      "KeyboardInterrupt\n"
     ]
    },
    {
     "ename": "TypeError",
     "evalue": "object of type 'NoneType' has no len()",
     "output_type": "error",
     "traceback": [
      "\u001b[0;31m---------------------------------------------------------------------------\u001b[0m",
      "\u001b[0;31mKeyboardInterrupt\u001b[0m                         Traceback (most recent call last)",
      "    \u001b[0;31m[... skipping hidden 1 frame]\u001b[0m\n",
      "\u001b[0;32m<ipython-input-8-2fad72a50e56>\u001b[0m in \u001b[0;36m<module>\u001b[0;34m\u001b[0m\n\u001b[1;32m      5\u001b[0m \u001b[0;34m\u001b[0m\u001b[0m\n\u001b[0;32m----> 6\u001b[0;31m \u001b[0mtrainer\u001b[0m\u001b[0;34m.\u001b[0m\u001b[0mfit\u001b[0m\u001b[0;34m(\u001b[0m\u001b[0mtrain_loader\u001b[0m\u001b[0;34m,\u001b[0m \u001b[0mval_loader\u001b[0m\u001b[0;34m,\u001b[0m \u001b[0mmanager\u001b[0m\u001b[0;34m,\u001b[0m \u001b[0mmax_step\u001b[0m\u001b[0;34m=\u001b[0m\u001b[0;36m50001\u001b[0m\u001b[0;34m,\u001b[0m \u001b[0msteps_betw_evals\u001b[0m\u001b[0;34m=\u001b[0m\u001b[0;36m5000\u001b[0m\u001b[0;34m,\u001b[0m \u001b[0mstop_patience\u001b[0m\u001b[0;34m=\u001b[0m\u001b[0;36m3\u001b[0m\u001b[0;34m)\u001b[0m\u001b[0;34m\u001b[0m\u001b[0;34m\u001b[0m\u001b[0m\n\u001b[0m",
      "\u001b[0;32m~/Projects/nti-ai-pipeline/nti_ai_pipeline/pipeline/training/train.py\u001b[0m in \u001b[0;36mfit\u001b[0;34m(self, train_loader, val_loader, model_manager, steps_betw_evals, print_loss_every, max_epoch, max_step, stop_patience)\u001b[0m\n\u001b[1;32m     39\u001b[0m                     \u001b[0;32mreturn\u001b[0m\u001b[0;34m\u001b[0m\u001b[0;34m\u001b[0m\u001b[0m\n\u001b[0;32m---> 40\u001b[0;31m                 \u001b[0mloss_val\u001b[0m \u001b[0;34m=\u001b[0m \u001b[0mself\u001b[0m\u001b[0;34m.\u001b[0m\u001b[0mweights_updater\u001b[0m\u001b[0;34m.\u001b[0m\u001b[0mfit_with_batch\u001b[0m\u001b[0;34m(\u001b[0m\u001b[0mmodel_manager\u001b[0m\u001b[0;34m,\u001b[0m \u001b[0mbatch\u001b[0m\u001b[0;34m)\u001b[0m\u001b[0;34m\u001b[0m\u001b[0;34m\u001b[0m\u001b[0m\n\u001b[0m\u001b[1;32m     41\u001b[0m                 \u001b[0mlosses\u001b[0m\u001b[0;34m.\u001b[0m\u001b[0mappend\u001b[0m\u001b[0;34m(\u001b[0m\u001b[0mloss_val\u001b[0m\u001b[0;34m)\u001b[0m\u001b[0;34m\u001b[0m\u001b[0;34m\u001b[0m\u001b[0m\n",
      "\u001b[0;32m~/Projects/nti-ai-pipeline/nti_ai_pipeline/pipeline/training/weights_updater.py\u001b[0m in \u001b[0;36mfit_with_batch\u001b[0;34m(self, manager, batch)\u001b[0m\n\u001b[1;32m     55\u001b[0m         \u001b[0minputs\u001b[0m\u001b[0;34m,\u001b[0m \u001b[0mlabels\u001b[0m \u001b[0;34m=\u001b[0m \u001b[0mbatch\u001b[0m\u001b[0;34m\u001b[0m\u001b[0;34m\u001b[0m\u001b[0m\n\u001b[0;32m---> 56\u001b[0;31m         \u001b[0mloss\u001b[0m \u001b[0;34m=\u001b[0m \u001b[0mself\u001b[0m\u001b[0;34m.\u001b[0m\u001b[0m_calc_loss\u001b[0m\u001b[0;34m(\u001b[0m\u001b[0mmanager\u001b[0m\u001b[0;34m,\u001b[0m \u001b[0minputs\u001b[0m\u001b[0;34m,\u001b[0m \u001b[0mlabels\u001b[0m\u001b[0;34m)\u001b[0m\u001b[0;34m\u001b[0m\u001b[0;34m\u001b[0m\u001b[0m\n\u001b[0m\u001b[1;32m     57\u001b[0m         \u001b[0mself\u001b[0m\u001b[0;34m.\u001b[0m\u001b[0m_backward_loss\u001b[0m\u001b[0;34m(\u001b[0m\u001b[0mloss\u001b[0m\u001b[0;34m)\u001b[0m\u001b[0;34m\u001b[0m\u001b[0;34m\u001b[0m\u001b[0m\n",
      "\u001b[0;32m~/Projects/nti-ai-pipeline/nti_ai_pipeline/pipeline/training/weights_updater.py\u001b[0m in \u001b[0;36m_calc_loss\u001b[0;34m(self, manager, inputs, labels)\u001b[0m\n\u001b[1;32m     66\u001b[0m         \u001b[0;32mwith\u001b[0m \u001b[0mamp\u001b[0m\u001b[0;34m.\u001b[0m\u001b[0mautocast\u001b[0m\u001b[0;34m(\u001b[0m\u001b[0menabled\u001b[0m\u001b[0;34m=\u001b[0m\u001b[0mself\u001b[0m\u001b[0;34m.\u001b[0m\u001b[0muse_amp\u001b[0m\u001b[0;34m)\u001b[0m\u001b[0;34m:\u001b[0m\u001b[0;34m\u001b[0m\u001b[0;34m\u001b[0m\u001b[0m\n\u001b[0;32m---> 67\u001b[0;31m             \u001b[0mpreds\u001b[0m\u001b[0;34m,\u001b[0m \u001b[0mlabels\u001b[0m \u001b[0;34m=\u001b[0m \u001b[0mmanager\u001b[0m\u001b[0;34m.\u001b[0m\u001b[0mpreproc_forward\u001b[0m\u001b[0;34m(\u001b[0m\u001b[0minputs\u001b[0m\u001b[0;34m,\u001b[0m \u001b[0mlabels\u001b[0m\u001b[0;34m)\u001b[0m\u001b[0;34m\u001b[0m\u001b[0;34m\u001b[0m\u001b[0m\n\u001b[0m\u001b[1;32m     68\u001b[0m             \u001b[0;31m# print(\"preds\", preds)\u001b[0m\u001b[0;34m\u001b[0m\u001b[0;34m\u001b[0m\u001b[0;34m\u001b[0m\u001b[0m\n",
      "\u001b[0;32m~/Projects/nti-ai-pipeline/nti_ai_pipeline/pipeline/modeling/managing_model.py\u001b[0m in \u001b[0;36mpreproc_forward\u001b[0;34m(self, features, labels)\u001b[0m\n\u001b[1;32m     45\u001b[0m         \u001b[0mout\u001b[0m \u001b[0;34m=\u001b[0m \u001b[0mself\u001b[0m\u001b[0;34m.\u001b[0m\u001b[0mprocessor\u001b[0m\u001b[0;34m.\u001b[0m\u001b[0mpreprocess\u001b[0m\u001b[0;34m(\u001b[0m\u001b[0mfeatures\u001b[0m\u001b[0;34m,\u001b[0m \u001b[0mlabels\u001b[0m\u001b[0;34m=\u001b[0m\u001b[0mlabels\u001b[0m\u001b[0;34m,\u001b[0m \u001b[0mdevice\u001b[0m\u001b[0;34m=\u001b[0m\u001b[0mself\u001b[0m\u001b[0;34m.\u001b[0m\u001b[0mdevice\u001b[0m\u001b[0;34m)\u001b[0m\u001b[0;34m\u001b[0m\u001b[0;34m\u001b[0m\u001b[0m\n\u001b[0;32m---> 46\u001b[0;31m         \u001b[0mpreds_raw\u001b[0m \u001b[0;34m=\u001b[0m \u001b[0mself\u001b[0m\u001b[0;34m.\u001b[0m\u001b[0mmodel\u001b[0m\u001b[0;34m(\u001b[0m\u001b[0mout\u001b[0m\u001b[0;34m.\u001b[0m\u001b[0mfeatures\u001b[0m\u001b[0;34m)\u001b[0m\u001b[0;34m\u001b[0m\u001b[0;34m\u001b[0m\u001b[0m\n\u001b[0m\u001b[1;32m     47\u001b[0m         \u001b[0mpreds\u001b[0m \u001b[0;34m=\u001b[0m \u001b[0mself\u001b[0m\u001b[0;34m.\u001b[0m\u001b[0mprocessor\u001b[0m\u001b[0;34m.\u001b[0m\u001b[0mafter_forward\u001b[0m\u001b[0;34m(\u001b[0m\u001b[0mpreds_raw\u001b[0m\u001b[0;34m)\u001b[0m\u001b[0;34m\u001b[0m\u001b[0;34m\u001b[0m\u001b[0m\n",
      "\u001b[0;32m~/.local/share/virtualenvs/nti-ai-pipeline-LA9ij60T/lib/python3.7/site-packages/torch/nn/modules/module.py\u001b[0m in \u001b[0;36m_call_impl\u001b[0;34m(self, *input, **kwargs)\u001b[0m\n\u001b[1;32m    888\u001b[0m         \u001b[0;32melse\u001b[0m\u001b[0;34m:\u001b[0m\u001b[0;34m\u001b[0m\u001b[0;34m\u001b[0m\u001b[0m\n\u001b[0;32m--> 889\u001b[0;31m             \u001b[0mresult\u001b[0m \u001b[0;34m=\u001b[0m \u001b[0mself\u001b[0m\u001b[0;34m.\u001b[0m\u001b[0mforward\u001b[0m\u001b[0;34m(\u001b[0m\u001b[0;34m*\u001b[0m\u001b[0minput\u001b[0m\u001b[0;34m,\u001b[0m \u001b[0;34m**\u001b[0m\u001b[0mkwargs\u001b[0m\u001b[0;34m)\u001b[0m\u001b[0;34m\u001b[0m\u001b[0;34m\u001b[0m\u001b[0m\n\u001b[0m\u001b[1;32m    890\u001b[0m         for hook in itertools.chain(\n",
      "\u001b[0;32m~/Projects/nti-ai-pipeline/nti_ai_pipeline/nti_rucos/sources/modeling/sent_pair_binary_classifier.py\u001b[0m in \u001b[0;36mforward\u001b[0;34m(self, inp)\u001b[0m\n\u001b[1;32m     53\u001b[0m \u001b[0;34m\u001b[0m\u001b[0m\n\u001b[0;32m---> 54\u001b[0;31m         \u001b[0mx\u001b[0m \u001b[0;34m=\u001b[0m \u001b[0mself\u001b[0m\u001b[0;34m.\u001b[0m\u001b[0mget_transformer\u001b[0m\u001b[0;34m(\u001b[0m\u001b[0;34m)\u001b[0m\u001b[0;34m(\u001b[0m\u001b[0;34m*\u001b[0m\u001b[0mtransformer_inputs\u001b[0m\u001b[0;34m)\u001b[0m\u001b[0;34m\u001b[0m\u001b[0;34m\u001b[0m\u001b[0m\n\u001b[0m\u001b[1;32m     55\u001b[0m         \u001b[0;31m# print(x)\u001b[0m\u001b[0;34m\u001b[0m\u001b[0;34m\u001b[0m\u001b[0;34m\u001b[0m\u001b[0m\n",
      "\u001b[0;32m~/.local/share/virtualenvs/nti-ai-pipeline-LA9ij60T/lib/python3.7/site-packages/torch/nn/modules/module.py\u001b[0m in \u001b[0;36m_call_impl\u001b[0;34m(self, *input, **kwargs)\u001b[0m\n\u001b[1;32m    888\u001b[0m         \u001b[0;32melse\u001b[0m\u001b[0;34m:\u001b[0m\u001b[0;34m\u001b[0m\u001b[0;34m\u001b[0m\u001b[0m\n\u001b[0;32m--> 889\u001b[0;31m             \u001b[0mresult\u001b[0m \u001b[0;34m=\u001b[0m \u001b[0mself\u001b[0m\u001b[0;34m.\u001b[0m\u001b[0mforward\u001b[0m\u001b[0;34m(\u001b[0m\u001b[0;34m*\u001b[0m\u001b[0minput\u001b[0m\u001b[0;34m,\u001b[0m \u001b[0;34m**\u001b[0m\u001b[0mkwargs\u001b[0m\u001b[0;34m)\u001b[0m\u001b[0;34m\u001b[0m\u001b[0;34m\u001b[0m\u001b[0m\n\u001b[0m\u001b[1;32m    890\u001b[0m         for hook in itertools.chain(\n",
      "\u001b[0;32m~/.local/share/virtualenvs/nti-ai-pipeline-LA9ij60T/lib/python3.7/site-packages/transformers/models/bert/modeling_bert.py\u001b[0m in \u001b[0;36mforward\u001b[0;34m(self, input_ids, attention_mask, token_type_ids, position_ids, head_mask, inputs_embeds, encoder_hidden_states, encoder_attention_mask, past_key_values, use_cache, output_attentions, output_hidden_states, return_dict)\u001b[0m\n\u001b[1;32m    980\u001b[0m             \u001b[0moutput_hidden_states\u001b[0m\u001b[0;34m=\u001b[0m\u001b[0moutput_hidden_states\u001b[0m\u001b[0;34m,\u001b[0m\u001b[0;34m\u001b[0m\u001b[0;34m\u001b[0m\u001b[0m\n\u001b[0;32m--> 981\u001b[0;31m             \u001b[0mreturn_dict\u001b[0m\u001b[0;34m=\u001b[0m\u001b[0mreturn_dict\u001b[0m\u001b[0;34m,\u001b[0m\u001b[0;34m\u001b[0m\u001b[0;34m\u001b[0m\u001b[0m\n\u001b[0m\u001b[1;32m    982\u001b[0m         )\n",
      "\u001b[0;32m~/.local/share/virtualenvs/nti-ai-pipeline-LA9ij60T/lib/python3.7/site-packages/torch/nn/modules/module.py\u001b[0m in \u001b[0;36m_call_impl\u001b[0;34m(self, *input, **kwargs)\u001b[0m\n\u001b[1;32m    888\u001b[0m         \u001b[0;32melse\u001b[0m\u001b[0;34m:\u001b[0m\u001b[0;34m\u001b[0m\u001b[0;34m\u001b[0m\u001b[0m\n\u001b[0;32m--> 889\u001b[0;31m             \u001b[0mresult\u001b[0m \u001b[0;34m=\u001b[0m \u001b[0mself\u001b[0m\u001b[0;34m.\u001b[0m\u001b[0mforward\u001b[0m\u001b[0;34m(\u001b[0m\u001b[0;34m*\u001b[0m\u001b[0minput\u001b[0m\u001b[0;34m,\u001b[0m \u001b[0;34m**\u001b[0m\u001b[0mkwargs\u001b[0m\u001b[0;34m)\u001b[0m\u001b[0;34m\u001b[0m\u001b[0;34m\u001b[0m\u001b[0m\n\u001b[0m\u001b[1;32m    890\u001b[0m         for hook in itertools.chain(\n",
      "\u001b[0;32m~/.local/share/virtualenvs/nti-ai-pipeline-LA9ij60T/lib/python3.7/site-packages/transformers/models/bert/modeling_bert.py\u001b[0m in \u001b[0;36mforward\u001b[0;34m(self, hidden_states, attention_mask, head_mask, encoder_hidden_states, encoder_attention_mask, past_key_values, use_cache, output_attentions, output_hidden_states, return_dict)\u001b[0m\n\u001b[1;32m    574\u001b[0m                     \u001b[0mpast_key_value\u001b[0m\u001b[0;34m,\u001b[0m\u001b[0;34m\u001b[0m\u001b[0;34m\u001b[0m\u001b[0m\n\u001b[0;32m--> 575\u001b[0;31m                     \u001b[0moutput_attentions\u001b[0m\u001b[0;34m,\u001b[0m\u001b[0;34m\u001b[0m\u001b[0;34m\u001b[0m\u001b[0m\n\u001b[0m\u001b[1;32m    576\u001b[0m                 )\n",
      "\u001b[0;32m~/.local/share/virtualenvs/nti-ai-pipeline-LA9ij60T/lib/python3.7/site-packages/torch/nn/modules/module.py\u001b[0m in \u001b[0;36m_call_impl\u001b[0;34m(self, *input, **kwargs)\u001b[0m\n\u001b[1;32m    888\u001b[0m         \u001b[0;32melse\u001b[0m\u001b[0;34m:\u001b[0m\u001b[0;34m\u001b[0m\u001b[0;34m\u001b[0m\u001b[0m\n\u001b[0;32m--> 889\u001b[0;31m             \u001b[0mresult\u001b[0m \u001b[0;34m=\u001b[0m \u001b[0mself\u001b[0m\u001b[0;34m.\u001b[0m\u001b[0mforward\u001b[0m\u001b[0;34m(\u001b[0m\u001b[0;34m*\u001b[0m\u001b[0minput\u001b[0m\u001b[0;34m,\u001b[0m \u001b[0;34m**\u001b[0m\u001b[0mkwargs\u001b[0m\u001b[0;34m)\u001b[0m\u001b[0;34m\u001b[0m\u001b[0;34m\u001b[0m\u001b[0m\n\u001b[0m\u001b[1;32m    890\u001b[0m         for hook in itertools.chain(\n",
      "\u001b[0;32m~/.local/share/virtualenvs/nti-ai-pipeline-LA9ij60T/lib/python3.7/site-packages/transformers/models/bert/modeling_bert.py\u001b[0m in \u001b[0;36mforward\u001b[0;34m(self, hidden_states, attention_mask, head_mask, encoder_hidden_states, encoder_attention_mask, past_key_value, output_attentions)\u001b[0m\n\u001b[1;32m    496\u001b[0m         layer_output = apply_chunking_to_forward(\n\u001b[0;32m--> 497\u001b[0;31m             \u001b[0mself\u001b[0m\u001b[0;34m.\u001b[0m\u001b[0mfeed_forward_chunk\u001b[0m\u001b[0;34m,\u001b[0m \u001b[0mself\u001b[0m\u001b[0;34m.\u001b[0m\u001b[0mchunk_size_feed_forward\u001b[0m\u001b[0;34m,\u001b[0m \u001b[0mself\u001b[0m\u001b[0;34m.\u001b[0m\u001b[0mseq_len_dim\u001b[0m\u001b[0;34m,\u001b[0m \u001b[0mattention_output\u001b[0m\u001b[0;34m\u001b[0m\u001b[0;34m\u001b[0m\u001b[0m\n\u001b[0m\u001b[1;32m    498\u001b[0m         )\n",
      "\u001b[0;32m~/.local/share/virtualenvs/nti-ai-pipeline-LA9ij60T/lib/python3.7/site-packages/transformers/modeling_utils.py\u001b[0m in \u001b[0;36mapply_chunking_to_forward\u001b[0;34m(forward_fn, chunk_size, chunk_dim, *input_tensors)\u001b[0m\n\u001b[1;32m   1816\u001b[0m \u001b[0;34m\u001b[0m\u001b[0m\n\u001b[0;32m-> 1817\u001b[0;31m     \u001b[0;32mreturn\u001b[0m \u001b[0mforward_fn\u001b[0m\u001b[0;34m(\u001b[0m\u001b[0;34m*\u001b[0m\u001b[0minput_tensors\u001b[0m\u001b[0;34m)\u001b[0m\u001b[0;34m\u001b[0m\u001b[0;34m\u001b[0m\u001b[0m\n\u001b[0m",
      "\u001b[0;32m~/.local/share/virtualenvs/nti-ai-pipeline-LA9ij60T/lib/python3.7/site-packages/transformers/models/bert/modeling_bert.py\u001b[0m in \u001b[0;36mfeed_forward_chunk\u001b[0;34m(self, attention_output)\u001b[0m\n\u001b[1;32m    508\u001b[0m         \u001b[0mintermediate_output\u001b[0m \u001b[0;34m=\u001b[0m \u001b[0mself\u001b[0m\u001b[0;34m.\u001b[0m\u001b[0mintermediate\u001b[0m\u001b[0;34m(\u001b[0m\u001b[0mattention_output\u001b[0m\u001b[0;34m)\u001b[0m\u001b[0;34m\u001b[0m\u001b[0;34m\u001b[0m\u001b[0m\n\u001b[0;32m--> 509\u001b[0;31m         \u001b[0mlayer_output\u001b[0m \u001b[0;34m=\u001b[0m \u001b[0mself\u001b[0m\u001b[0;34m.\u001b[0m\u001b[0moutput\u001b[0m\u001b[0;34m(\u001b[0m\u001b[0mintermediate_output\u001b[0m\u001b[0;34m,\u001b[0m \u001b[0mattention_output\u001b[0m\u001b[0;34m)\u001b[0m\u001b[0;34m\u001b[0m\u001b[0;34m\u001b[0m\u001b[0m\n\u001b[0m\u001b[1;32m    510\u001b[0m         \u001b[0;32mreturn\u001b[0m \u001b[0mlayer_output\u001b[0m\u001b[0;34m\u001b[0m\u001b[0;34m\u001b[0m\u001b[0m\n",
      "\u001b[0;32m~/.local/share/virtualenvs/nti-ai-pipeline-LA9ij60T/lib/python3.7/site-packages/torch/nn/modules/module.py\u001b[0m in \u001b[0;36m_call_impl\u001b[0;34m(self, *input, **kwargs)\u001b[0m\n\u001b[1;32m    888\u001b[0m         \u001b[0;32melse\u001b[0m\u001b[0;34m:\u001b[0m\u001b[0;34m\u001b[0m\u001b[0;34m\u001b[0m\u001b[0m\n\u001b[0;32m--> 889\u001b[0;31m             \u001b[0mresult\u001b[0m \u001b[0;34m=\u001b[0m \u001b[0mself\u001b[0m\u001b[0;34m.\u001b[0m\u001b[0mforward\u001b[0m\u001b[0;34m(\u001b[0m\u001b[0;34m*\u001b[0m\u001b[0minput\u001b[0m\u001b[0;34m,\u001b[0m \u001b[0;34m**\u001b[0m\u001b[0mkwargs\u001b[0m\u001b[0;34m)\u001b[0m\u001b[0;34m\u001b[0m\u001b[0;34m\u001b[0m\u001b[0m\n\u001b[0m\u001b[1;32m    890\u001b[0m         for hook in itertools.chain(\n",
      "\u001b[0;32m~/.local/share/virtualenvs/nti-ai-pipeline-LA9ij60T/lib/python3.7/site-packages/transformers/models/bert/modeling_bert.py\u001b[0m in \u001b[0;36mforward\u001b[0;34m(self, hidden_states, input_tensor)\u001b[0m\n\u001b[1;32m    423\u001b[0m     \u001b[0;32mdef\u001b[0m \u001b[0mforward\u001b[0m\u001b[0;34m(\u001b[0m\u001b[0mself\u001b[0m\u001b[0;34m,\u001b[0m \u001b[0mhidden_states\u001b[0m\u001b[0;34m,\u001b[0m \u001b[0minput_tensor\u001b[0m\u001b[0;34m)\u001b[0m\u001b[0;34m:\u001b[0m\u001b[0;34m\u001b[0m\u001b[0;34m\u001b[0m\u001b[0m\n\u001b[0;32m--> 424\u001b[0;31m         \u001b[0mhidden_states\u001b[0m \u001b[0;34m=\u001b[0m \u001b[0mself\u001b[0m\u001b[0;34m.\u001b[0m\u001b[0mdense\u001b[0m\u001b[0;34m(\u001b[0m\u001b[0mhidden_states\u001b[0m\u001b[0;34m)\u001b[0m\u001b[0;34m\u001b[0m\u001b[0;34m\u001b[0m\u001b[0m\n\u001b[0m\u001b[1;32m    425\u001b[0m         \u001b[0mhidden_states\u001b[0m \u001b[0;34m=\u001b[0m \u001b[0mself\u001b[0m\u001b[0;34m.\u001b[0m\u001b[0mdropout\u001b[0m\u001b[0;34m(\u001b[0m\u001b[0mhidden_states\u001b[0m\u001b[0;34m)\u001b[0m\u001b[0;34m\u001b[0m\u001b[0;34m\u001b[0m\u001b[0m\n",
      "\u001b[0;32m~/.local/share/virtualenvs/nti-ai-pipeline-LA9ij60T/lib/python3.7/site-packages/torch/nn/modules/module.py\u001b[0m in \u001b[0;36m_call_impl\u001b[0;34m(self, *input, **kwargs)\u001b[0m\n\u001b[1;32m    888\u001b[0m         \u001b[0;32melse\u001b[0m\u001b[0;34m:\u001b[0m\u001b[0;34m\u001b[0m\u001b[0;34m\u001b[0m\u001b[0m\n\u001b[0;32m--> 889\u001b[0;31m             \u001b[0mresult\u001b[0m \u001b[0;34m=\u001b[0m \u001b[0mself\u001b[0m\u001b[0;34m.\u001b[0m\u001b[0mforward\u001b[0m\u001b[0;34m(\u001b[0m\u001b[0;34m*\u001b[0m\u001b[0minput\u001b[0m\u001b[0;34m,\u001b[0m \u001b[0;34m**\u001b[0m\u001b[0mkwargs\u001b[0m\u001b[0;34m)\u001b[0m\u001b[0;34m\u001b[0m\u001b[0;34m\u001b[0m\u001b[0m\n\u001b[0m\u001b[1;32m    890\u001b[0m         for hook in itertools.chain(\n",
      "\u001b[0;32m~/.local/share/virtualenvs/nti-ai-pipeline-LA9ij60T/lib/python3.7/site-packages/torch/nn/modules/linear.py\u001b[0m in \u001b[0;36mforward\u001b[0;34m(self, input)\u001b[0m\n\u001b[1;32m     93\u001b[0m     \u001b[0;32mdef\u001b[0m \u001b[0mforward\u001b[0m\u001b[0;34m(\u001b[0m\u001b[0mself\u001b[0m\u001b[0;34m,\u001b[0m \u001b[0minput\u001b[0m\u001b[0;34m:\u001b[0m \u001b[0mTensor\u001b[0m\u001b[0;34m)\u001b[0m \u001b[0;34m->\u001b[0m \u001b[0mTensor\u001b[0m\u001b[0;34m:\u001b[0m\u001b[0;34m\u001b[0m\u001b[0;34m\u001b[0m\u001b[0m\n\u001b[0;32m---> 94\u001b[0;31m         \u001b[0;32mreturn\u001b[0m \u001b[0mF\u001b[0m\u001b[0;34m.\u001b[0m\u001b[0mlinear\u001b[0m\u001b[0;34m(\u001b[0m\u001b[0minput\u001b[0m\u001b[0;34m,\u001b[0m \u001b[0mself\u001b[0m\u001b[0;34m.\u001b[0m\u001b[0mweight\u001b[0m\u001b[0;34m,\u001b[0m \u001b[0mself\u001b[0m\u001b[0;34m.\u001b[0m\u001b[0mbias\u001b[0m\u001b[0;34m)\u001b[0m\u001b[0;34m\u001b[0m\u001b[0;34m\u001b[0m\u001b[0m\n\u001b[0m\u001b[1;32m     95\u001b[0m \u001b[0;34m\u001b[0m\u001b[0m\n",
      "\u001b[0;32m~/.local/share/virtualenvs/nti-ai-pipeline-LA9ij60T/lib/python3.7/site-packages/torch/nn/functional.py\u001b[0m in \u001b[0;36mlinear\u001b[0;34m(input, weight, bias)\u001b[0m\n\u001b[1;32m   1752\u001b[0m         \u001b[0;32mreturn\u001b[0m \u001b[0mhandle_torch_function\u001b[0m\u001b[0;34m(\u001b[0m\u001b[0mlinear\u001b[0m\u001b[0;34m,\u001b[0m \u001b[0;34m(\u001b[0m\u001b[0minput\u001b[0m\u001b[0;34m,\u001b[0m \u001b[0mweight\u001b[0m\u001b[0;34m)\u001b[0m\u001b[0;34m,\u001b[0m \u001b[0minput\u001b[0m\u001b[0;34m,\u001b[0m \u001b[0mweight\u001b[0m\u001b[0;34m,\u001b[0m \u001b[0mbias\u001b[0m\u001b[0;34m=\u001b[0m\u001b[0mbias\u001b[0m\u001b[0;34m)\u001b[0m\u001b[0;34m\u001b[0m\u001b[0;34m\u001b[0m\u001b[0m\n\u001b[0;32m-> 1753\u001b[0;31m     \u001b[0;32mreturn\u001b[0m \u001b[0mtorch\u001b[0m\u001b[0;34m.\u001b[0m\u001b[0m_C\u001b[0m\u001b[0;34m.\u001b[0m\u001b[0m_nn\u001b[0m\u001b[0;34m.\u001b[0m\u001b[0mlinear\u001b[0m\u001b[0;34m(\u001b[0m\u001b[0minput\u001b[0m\u001b[0;34m,\u001b[0m \u001b[0mweight\u001b[0m\u001b[0;34m,\u001b[0m \u001b[0mbias\u001b[0m\u001b[0;34m)\u001b[0m\u001b[0;34m\u001b[0m\u001b[0;34m\u001b[0m\u001b[0m\n\u001b[0m\u001b[1;32m   1754\u001b[0m \u001b[0;34m\u001b[0m\u001b[0m\n",
      "\u001b[0;31mKeyboardInterrupt\u001b[0m: ",
      "\nDuring handling of the above exception, another exception occurred:\n",
      "\u001b[0;31mAttributeError\u001b[0m                            Traceback (most recent call last)",
      "\u001b[0;32m~/.local/share/virtualenvs/nti-ai-pipeline-LA9ij60T/lib/python3.7/site-packages/IPython/core/interactiveshell.py\u001b[0m in \u001b[0;36mshowtraceback\u001b[0;34m(self, exc_tuple, filename, tb_offset, exception_only, running_compiled_code)\u001b[0m\n\u001b[1;32m   2060\u001b[0m                         \u001b[0;31m# in the engines. This should return a list of strings.\u001b[0m\u001b[0;34m\u001b[0m\u001b[0;34m\u001b[0m\u001b[0;34m\u001b[0m\u001b[0m\n\u001b[0;32m-> 2061\u001b[0;31m                         \u001b[0mstb\u001b[0m \u001b[0;34m=\u001b[0m \u001b[0mvalue\u001b[0m\u001b[0;34m.\u001b[0m\u001b[0m_render_traceback_\u001b[0m\u001b[0;34m(\u001b[0m\u001b[0;34m)\u001b[0m\u001b[0;34m\u001b[0m\u001b[0;34m\u001b[0m\u001b[0m\n\u001b[0m\u001b[1;32m   2062\u001b[0m                     \u001b[0;32mexcept\u001b[0m \u001b[0mException\u001b[0m\u001b[0;34m:\u001b[0m\u001b[0;34m\u001b[0m\u001b[0;34m\u001b[0m\u001b[0m\n",
      "\u001b[0;31mAttributeError\u001b[0m: 'KeyboardInterrupt' object has no attribute '_render_traceback_'",
      "\nDuring handling of the above exception, another exception occurred:\n",
      "\u001b[0;31mTypeError\u001b[0m                                 Traceback (most recent call last)",
      "    \u001b[0;31m[... skipping hidden 1 frame]\u001b[0m\n",
      "\u001b[0;32m~/.local/share/virtualenvs/nti-ai-pipeline-LA9ij60T/lib/python3.7/site-packages/IPython/core/interactiveshell.py\u001b[0m in \u001b[0;36mshowtraceback\u001b[0;34m(self, exc_tuple, filename, tb_offset, exception_only, running_compiled_code)\u001b[0m\n\u001b[1;32m   2062\u001b[0m                     \u001b[0;32mexcept\u001b[0m \u001b[0mException\u001b[0m\u001b[0;34m:\u001b[0m\u001b[0;34m\u001b[0m\u001b[0;34m\u001b[0m\u001b[0m\n\u001b[1;32m   2063\u001b[0m                         stb = self.InteractiveTB.structured_traceback(etype,\n\u001b[0;32m-> 2064\u001b[0;31m                                             value, tb, tb_offset=tb_offset)\n\u001b[0m\u001b[1;32m   2065\u001b[0m \u001b[0;34m\u001b[0m\u001b[0m\n\u001b[1;32m   2066\u001b[0m                     \u001b[0mself\u001b[0m\u001b[0;34m.\u001b[0m\u001b[0m_showtraceback\u001b[0m\u001b[0;34m(\u001b[0m\u001b[0metype\u001b[0m\u001b[0;34m,\u001b[0m \u001b[0mvalue\u001b[0m\u001b[0;34m,\u001b[0m \u001b[0mstb\u001b[0m\u001b[0;34m)\u001b[0m\u001b[0;34m\u001b[0m\u001b[0;34m\u001b[0m\u001b[0m\n",
      "\u001b[0;32m~/.local/share/virtualenvs/nti-ai-pipeline-LA9ij60T/lib/python3.7/site-packages/IPython/core/ultratb.py\u001b[0m in \u001b[0;36mstructured_traceback\u001b[0;34m(self, etype, value, tb, tb_offset, number_of_lines_of_context)\u001b[0m\n\u001b[1;32m   1366\u001b[0m             \u001b[0mself\u001b[0m\u001b[0;34m.\u001b[0m\u001b[0mtb\u001b[0m \u001b[0;34m=\u001b[0m \u001b[0mtb\u001b[0m\u001b[0;34m\u001b[0m\u001b[0;34m\u001b[0m\u001b[0m\n\u001b[1;32m   1367\u001b[0m         return FormattedTB.structured_traceback(\n\u001b[0;32m-> 1368\u001b[0;31m             self, etype, value, tb, tb_offset, number_of_lines_of_context)\n\u001b[0m\u001b[1;32m   1369\u001b[0m \u001b[0;34m\u001b[0m\u001b[0m\n\u001b[1;32m   1370\u001b[0m \u001b[0;34m\u001b[0m\u001b[0m\n",
      "\u001b[0;32m~/.local/share/virtualenvs/nti-ai-pipeline-LA9ij60T/lib/python3.7/site-packages/IPython/core/ultratb.py\u001b[0m in \u001b[0;36mstructured_traceback\u001b[0;34m(self, etype, value, tb, tb_offset, number_of_lines_of_context)\u001b[0m\n\u001b[1;32m   1266\u001b[0m             \u001b[0;31m# Verbose modes need a full traceback\u001b[0m\u001b[0;34m\u001b[0m\u001b[0;34m\u001b[0m\u001b[0;34m\u001b[0m\u001b[0m\n\u001b[1;32m   1267\u001b[0m             return VerboseTB.structured_traceback(\n\u001b[0;32m-> 1268\u001b[0;31m                 \u001b[0mself\u001b[0m\u001b[0;34m,\u001b[0m \u001b[0metype\u001b[0m\u001b[0;34m,\u001b[0m \u001b[0mvalue\u001b[0m\u001b[0;34m,\u001b[0m \u001b[0mtb\u001b[0m\u001b[0;34m,\u001b[0m \u001b[0mtb_offset\u001b[0m\u001b[0;34m,\u001b[0m \u001b[0mnumber_of_lines_of_context\u001b[0m\u001b[0;34m\u001b[0m\u001b[0;34m\u001b[0m\u001b[0m\n\u001b[0m\u001b[1;32m   1269\u001b[0m             )\n\u001b[1;32m   1270\u001b[0m         \u001b[0;32melif\u001b[0m \u001b[0mmode\u001b[0m \u001b[0;34m==\u001b[0m \u001b[0;34m'Minimal'\u001b[0m\u001b[0;34m:\u001b[0m\u001b[0;34m\u001b[0m\u001b[0;34m\u001b[0m\u001b[0m\n",
      "\u001b[0;32m~/.local/share/virtualenvs/nti-ai-pipeline-LA9ij60T/lib/python3.7/site-packages/IPython/core/ultratb.py\u001b[0m in \u001b[0;36mstructured_traceback\u001b[0;34m(self, etype, evalue, etb, tb_offset, number_of_lines_of_context)\u001b[0m\n\u001b[1;32m   1123\u001b[0m \u001b[0;34m\u001b[0m\u001b[0m\n\u001b[1;32m   1124\u001b[0m         formatted_exception = self.format_exception_as_a_whole(etype, evalue, etb, number_of_lines_of_context,\n\u001b[0;32m-> 1125\u001b[0;31m                                                                tb_offset)\n\u001b[0m\u001b[1;32m   1126\u001b[0m \u001b[0;34m\u001b[0m\u001b[0m\n\u001b[1;32m   1127\u001b[0m         \u001b[0mcolors\u001b[0m \u001b[0;34m=\u001b[0m \u001b[0mself\u001b[0m\u001b[0;34m.\u001b[0m\u001b[0mColors\u001b[0m  \u001b[0;31m# just a shorthand + quicker name lookup\u001b[0m\u001b[0;34m\u001b[0m\u001b[0;34m\u001b[0m\u001b[0m\n",
      "\u001b[0;32m~/.local/share/virtualenvs/nti-ai-pipeline-LA9ij60T/lib/python3.7/site-packages/IPython/core/ultratb.py\u001b[0m in \u001b[0;36mformat_exception_as_a_whole\u001b[0;34m(self, etype, evalue, etb, number_of_lines_of_context, tb_offset)\u001b[0m\n\u001b[1;32m   1080\u001b[0m \u001b[0;34m\u001b[0m\u001b[0m\n\u001b[1;32m   1081\u001b[0m \u001b[0;34m\u001b[0m\u001b[0m\n\u001b[0;32m-> 1082\u001b[0;31m         \u001b[0mlast_unique\u001b[0m\u001b[0;34m,\u001b[0m \u001b[0mrecursion_repeat\u001b[0m \u001b[0;34m=\u001b[0m \u001b[0mfind_recursion\u001b[0m\u001b[0;34m(\u001b[0m\u001b[0morig_etype\u001b[0m\u001b[0;34m,\u001b[0m \u001b[0mevalue\u001b[0m\u001b[0;34m,\u001b[0m \u001b[0mrecords\u001b[0m\u001b[0;34m)\u001b[0m\u001b[0;34m\u001b[0m\u001b[0;34m\u001b[0m\u001b[0m\n\u001b[0m\u001b[1;32m   1083\u001b[0m \u001b[0;34m\u001b[0m\u001b[0m\n\u001b[1;32m   1084\u001b[0m         \u001b[0mframes\u001b[0m \u001b[0;34m=\u001b[0m \u001b[0mself\u001b[0m\u001b[0;34m.\u001b[0m\u001b[0mformat_records\u001b[0m\u001b[0;34m(\u001b[0m\u001b[0mrecords\u001b[0m\u001b[0;34m,\u001b[0m \u001b[0mlast_unique\u001b[0m\u001b[0;34m,\u001b[0m \u001b[0mrecursion_repeat\u001b[0m\u001b[0;34m)\u001b[0m\u001b[0;34m\u001b[0m\u001b[0;34m\u001b[0m\u001b[0m\n",
      "\u001b[0;32m~/.local/share/virtualenvs/nti-ai-pipeline-LA9ij60T/lib/python3.7/site-packages/IPython/core/ultratb.py\u001b[0m in \u001b[0;36mfind_recursion\u001b[0;34m(etype, value, records)\u001b[0m\n\u001b[1;32m    380\u001b[0m     \u001b[0;31m# first frame (from in to out) that looks different.\u001b[0m\u001b[0;34m\u001b[0m\u001b[0;34m\u001b[0m\u001b[0;34m\u001b[0m\u001b[0m\n\u001b[1;32m    381\u001b[0m     \u001b[0;32mif\u001b[0m \u001b[0;32mnot\u001b[0m \u001b[0mis_recursion_error\u001b[0m\u001b[0;34m(\u001b[0m\u001b[0metype\u001b[0m\u001b[0;34m,\u001b[0m \u001b[0mvalue\u001b[0m\u001b[0;34m,\u001b[0m \u001b[0mrecords\u001b[0m\u001b[0;34m)\u001b[0m\u001b[0;34m:\u001b[0m\u001b[0;34m\u001b[0m\u001b[0;34m\u001b[0m\u001b[0m\n\u001b[0;32m--> 382\u001b[0;31m         \u001b[0;32mreturn\u001b[0m \u001b[0mlen\u001b[0m\u001b[0;34m(\u001b[0m\u001b[0mrecords\u001b[0m\u001b[0;34m)\u001b[0m\u001b[0;34m,\u001b[0m \u001b[0;36m0\u001b[0m\u001b[0;34m\u001b[0m\u001b[0;34m\u001b[0m\u001b[0m\n\u001b[0m\u001b[1;32m    383\u001b[0m \u001b[0;34m\u001b[0m\u001b[0m\n\u001b[1;32m    384\u001b[0m     \u001b[0;31m# Select filename, lineno, func_name to track frames with\u001b[0m\u001b[0;34m\u001b[0m\u001b[0;34m\u001b[0m\u001b[0;34m\u001b[0m\u001b[0m\n",
      "\u001b[0;31mTypeError\u001b[0m: object of type 'NoneType' has no len()"
     ]
    }
   ],
   "source": [
    "# del model, manager\n",
    "import gc, torch\n",
    "gc.collect()\n",
    "torch.cuda.empty_cache()\n",
    "\n",
    "trainer.fit(train_loader, val_loader, manager, max_step=50001, steps_betw_evals=5000, stop_patience=3)"
   ]
  },
  {
   "cell_type": "code",
   "execution_count": null,
   "id": "5efe973c",
   "metadata": {},
   "outputs": [],
   "source": []
  },
  {
   "cell_type": "code",
   "execution_count": null,
   "id": "76bd07d5",
   "metadata": {},
   "outputs": [],
   "source": [
    "# best_manager = trainer.load_best_manager()\n",
    "# best_manager = managing_model.ModelManager.load(saver, '9ab8822d-1d50-4d8d-904b-2e7a70dca78f')\n",
    "submitter = rucos_modeling.RucosSubmitter(subm_dir=os.path.join(BASE_DIR, 'submissions'))\n",
    "\n",
    "test_container = nti_rucos.data.RucosContainer(path=os.path.join(DATA_DIR, 'rucos_test.jsonl'), has_labels=False,\n",
    "                                                  query_placeholder_union_mode=\"concatenate\",\n",
    "                                                  )\n",
    "test_dataset = nti_rucos.data.RucosSubmDataset(test_container, switch_texts=True)\n",
    "# test_dataset = torch_data.Subset(test_dataset, np.arange(1000))\n",
    "test_loader = torch_data.DataLoader(test_dataset)\n",
    "\n",
    "submitter.create_submission(\n",
    "    best_manager, test_loader, subm_file_name=\"subm_single_bert_50000_steps.jsonl\",\n",
    "    )"
   ]
  },
  {
   "cell_type": "code",
   "execution_count": null,
   "id": "e922fb4b",
   "metadata": {},
   "outputs": [],
   "source": []
  }
 ],
 "metadata": {
  "kernelspec": {
   "display_name": "Python 3",
   "language": "python",
   "name": "python3"
  },
  "language_info": {
   "codemirror_mode": {
    "name": "ipython",
    "version": 3
   },
   "file_extension": ".py",
   "mimetype": "text/x-python",
   "name": "python",
   "nbconvert_exporter": "python",
   "pygments_lexer": "ipython3",
   "version": "3.7.9"
  }
 },
 "nbformat": 4,
 "nbformat_minor": 5
}
