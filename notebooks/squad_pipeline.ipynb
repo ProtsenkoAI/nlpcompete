{
 "cells": [
  {
   "cell_type": "markdown",
   "id": "0ffa9d68-b305-4dba-b9ac-03863deb7a20",
   "metadata": {},
   "source": [
    "### Imports and constants"
   ]
  },
  {
   "cell_type": "code",
   "execution_count": 1,
   "id": "f21f5b02",
   "metadata": {},
   "outputs": [],
   "source": [
    "import os\n",
    "from torch import cuda, device\n",
    "\n",
    "BASE_DIR = \"./../\"\n",
    "DATA_DIR = os.path.join(BASE_DIR, \"data/ru_squad\")\n",
    "SOURCES_DIR = os.path.join(BASE_DIR, \"nti_ai_pipeline\")\n",
    "TRAIN_FILE_PATH = os.path.join(DATA_DIR, \"sbersquad_train.json\")\n",
    "TEST_FILE_PATH = os.path.join(DATA_DIR, \"sbersquad_test.json\")\n",
    "CACHE_DIR = \"./cache_models/\"\n",
    "\n",
    "BATCH_SIZE = 2\n",
    "DEVICE = device(\"cuda\" if cuda.is_available() else \"cpu\")\n",
    "TRANSFORMER_NAME = \"DeepPavlov/rubert-base-cased\"\n",
    "MAX_ANSWER_LEN_IN_TOKENS = 27\n",
    "DROPRATE = 0.7\n",
    "\n",
    "MOCK = True # turn off if run real pipeline, turn on if testing that things work\n",
    "DO_FIT = False"
   ]
  },
  {
   "cell_type": "code",
   "execution_count": 2,
   "id": "3621f6f0-dc48-4e06-9bb8-555765125ee3",
   "metadata": {},
   "outputs": [],
   "source": [
    "import sys\n",
    "import importlib\n",
    "import torch\n",
    "\n",
    "sys.path.append(SOURCES_DIR)\n",
    "\n",
    "import nti_squad\n",
    "import pipeline\n",
    "from torch.utils import data as torch_data\n",
    "from nti_squad import data as squad_data\n",
    "from nti_squad import modeling as squad_modeling\n",
    "from pipeline.saving import local_saver\n",
    "\n",
    "\n",
    "my_modules = [nti_squad, pipeline, squad_modeling, squad_data, local_saver]\n",
    "\n",
    "for module in my_modules:\n",
    "    importlib.reload(module)"
   ]
  },
  {
   "cell_type": "code",
   "execution_count": 3,
   "id": "b24e0c82-d967-4f93-80e2-81c591fe275f",
   "metadata": {},
   "outputs": [],
   "source": [
    "import gc, torch\n",
    "\n",
    "def free_memory():\n",
    "    gc.collect()\n",
    "    torch.cuda.empty_cache()"
   ]
  },
  {
   "cell_type": "markdown",
   "id": "dab3dcff-dc8f-4bc0-b83b-e5eff59dcc7a",
   "metadata": {},
   "source": [
    "### Load data"
   ]
  },
  {
   "cell_type": "code",
   "execution_count": 4,
   "id": "85f4f9ef-faa6-44fe-ba42-2359cb593608",
   "metadata": {},
   "outputs": [],
   "source": [
    "train_val_container = squad_data.QADataContainer(TRAIN_FILE_PATH)\n",
    "\n",
    "\n",
    "test_size = 0.001 if MOCK else 0.2\n",
    "train_data, test_data = train_val_container.train_test_split(shuffle=True, test_size=test_size)\n",
    "\n",
    "train_dataset = squad_data.SQuADDataset(train_data)\n",
    "val_dataset = squad_data.SQuADDataset(test_data)\n",
    "\n",
    "train_loader = torch_data.DataLoader(train_dataset, batch_size=BATCH_SIZE)\n",
    "val_loader = torch_data.DataLoader(val_dataset, batch_size=BATCH_SIZE)"
   ]
  },
  {
   "cell_type": "markdown",
   "id": "ee6893e8-9c7c-49e0-9508-51c0ca1b22e9",
   "metadata": {},
   "source": [
    "### Defining model and trainer"
   ]
  },
  {
   "cell_type": "code",
   "execution_count": 5,
   "id": "73c1e3bb-eee8-4e24-a160-4f133aebb001",
   "metadata": {},
   "outputs": [],
   "source": [
    "model = squad_modeling.TransformerQA(TRANSFORMER_NAME, droprate=DROPRATE, cache_dir=CACHE_DIR)\n",
    "proc = squad_modeling.QADataProcessor(TRANSFORMER_NAME, max_answer_token_len=MAX_ANSWER_LEN_IN_TOKENS)\n",
    "saver = local_saver.LocalSaver(save_dir='./saved_models')\n",
    "\n",
    "manager = pipeline.modeling.ModelManager(model, proc, device=DEVICE, saver=saver)"
   ]
  },
  {
   "cell_type": "code",
   "execution_count": 6,
   "id": "cec41126-bd7f-43b0-848b-fef6796f9bdd",
   "metadata": {},
   "outputs": [],
   "source": [
    "if DO_FIT:\n",
    "    validator = nti_squad.squad_evaluating.SQuADValidator()\n",
    "    weights_updater = nti_squad.QAWeightsUpdater(lr=5e-5, accum_iters=5, lr_end=8e-6, warmup=400, optimizer_class=torch.optim.AdamW) # NOTE: had set to 0 from 1e-2\n",
    "    trainer = pipeline.training.Trainer(validator, weights_updater)"
   ]
  },
  {
   "cell_type": "markdown",
   "id": "784a9136-afc5-4348-a35b-de61e407510b",
   "metadata": {},
   "source": [
    "### Fit"
   ]
  },
  {
   "cell_type": "code",
   "execution_count": 7,
   "id": "036fd3ca-b9f2-4fc4-895c-3e23dcebcd0a",
   "metadata": {
    "tags": []
   },
   "outputs": [],
   "source": [
    "if DO_FIT:\n",
    "    trainer.fit(train_loader, val_loader, manager, max_epoch=1, steps_betw_evals=1100, stop_patience=2)"
   ]
  },
  {
   "cell_type": "code",
   "execution_count": 8,
   "id": "121203a1-7bff-41ea-a53e-97007f73a0c4",
   "metadata": {},
   "outputs": [],
   "source": [
    "free_memory()"
   ]
  },
  {
   "cell_type": "markdown",
   "id": "bab96969-5d24-4fba-a0a2-d36548b80cb8",
   "metadata": {},
   "source": [
    "### Pseudo labeling, unioning source train samples with pseudo labeled ones"
   ]
  },
  {
   "cell_type": "code",
   "execution_count": 9,
   "id": "6142e2dc-5cc0-459b-a4b5-e0ed2932286b",
   "metadata": {},
   "outputs": [],
   "source": [
    "test_container = nti_squad.data.QADataContainer(path=TEST_FILE_PATH)\n",
    "test_dataset = squad_data.subm_dataset.SubmDataset(test_container.get_data())\n",
    "if MOCK:\n",
    "    test_dataset = torch_data.Subset(test_dataset, list(range(10)))\n",
    "    \n",
    "test_loader = torch_data.DataLoader(test_dataset, batch_size=2)"
   ]
  },
  {
   "cell_type": "code",
   "execution_count": 10,
   "id": "cd459e9c-ca99-4981-b02f-cc42d63cdaca",
   "metadata": {},
   "outputs": [],
   "source": [
    "predictor = nti_squad.pseudo_labeling.SquadDataPredictor()\n",
    "pseudo_labeler = nti_squad.pseudo_labeling.SQuADPseudoLabeler(predictor, num_samples=3)"
   ]
  },
  {
   "cell_type": "code",
   "execution_count": 11,
   "id": "42c2daaa-8192-4fc3-a322-80e386e499e4",
   "metadata": {},
   "outputs": [
    {
     "data": {
      "application/vnd.jupyter.widget-view+json": {
       "model_id": "4ab6e13f91f247a49934106952af0e35",
       "version_major": 2,
       "version_minor": 0
      },
      "text/plain": [
       "HBox(children=(FloatProgress(value=0.0, max=5.0), HTML(value='')))"
      ]
     },
     "metadata": {},
     "output_type": "display_data"
    },
    {
     "name": "stderr",
     "output_type": "stream",
     "text": [
      "./../nti_ai_pipeline/nti_squad/modeling/qa_proc_assistant.py:76: UserWarning: Output 0 of SliceBackward is a view and is being modified inplace. This view is an output of a function that returns multiple views. Inplace operators on such views are being deprecated and will be forbidden starting from version 1.8. Consider using `unsafe_` version of the function that produced this view or don't modify this view inplace. (Triggered internally at  /pytorch/torch/csrc/autograd/variable.cpp:547.)\n",
      "  start_preds[text_idx, question_start_idx:] = 0\n",
      "./../nti_ai_pipeline/nti_squad/modeling/qa_proc_assistant.py:77: UserWarning: Output 0 of SliceBackward is a view and is being modified inplace. This view is an output of a function that returns multiple views. Inplace operators on such views are being deprecated and will be forbidden starting from version 1.8. Consider using `unsafe_` version of the function that produced this view or don't modify this view inplace. (Triggered internally at  /pytorch/torch/csrc/autograd/variable.cpp:547.)\n",
      "  end_preds[text_idx, question_start_idx:] = 0\n"
     ]
    },
    {
     "name": "stdout",
     "output_type": "stream",
     "text": [
      "\n",
      "Preds in pseudo labeler from data predictor: [SubmPredWithProbs(probs=3.11226224899292, answer_start=4.0, answer_end=8.0, preds='м годам жилищное строительство распространилось'), SubmPredWithProbs(probs=3.2413578033447266, answer_start=0.0, answer_end=3.0, preds='К 1960-'), SubmPredWithProbs(probs=3.2815892696380615, answer_start=3.0, answer_end=25.0, preds='-м годам жилищное строительство распространилось на район восточнее Батарейной горы, ранее застроенный, преимущественно, мало'), SubmPredWithProbs(probs=3.3006906509399414, answer_start=4.0, answer_end=13.0, preds='м годам жилищное строительство распространилось на район восточнее Батарей'), SubmPredWithProbs(probs=3.0960874557495117, answer_start=6.0, answer_end=30.0, preds='жилищное строительство распространилось на район восточнее Батарейной горы, ранее застроенный, преимущественно, малоэтажными домами, значительная'), SubmPredWithProbs(probs=3.219414234161377, answer_start=25.0, answer_end=25.0, preds='мало'), SubmPredWithProbs(probs=3.7638511657714844, answer_start=92.0, answer_end=103.0, preds='вытесняются электропоездами. Прежде главный двигатель выборгс'), SubmPredWithProbs(probs=3.0716681480407715, answer_start=78.0, answer_end=102.0, preds='у в 1957 году трамваю приходит автобус, а паровозы с 1969 года вытесняются электропоездами. Прежде главный двигатель выбор'), SubmPredWithProbs(probs=3.4087510108947754, answer_start=2.0, answer_end=25.0, preds='1960-м годам жилищное строительство распространилось на район восточнее Батарейной горы, ранее застроенный, преимущественно, мало'), SubmPredWithProbs(probs=4.044743537902832, answer_start=7.0, answer_end=29.0, preds='как и женщина , традиционно определяется в первую очередь через биологические особенности. Как отмечают некоторые исследователи, это связано с особым значением')]\n"
     ]
    }
   ],
   "source": [
    "pseudo_label_samples = pseudo_labeler.run(manager, test_loader)"
   ]
  },
  {
   "cell_type": "code",
   "execution_count": 13,
   "id": "4421beab-08c0-4066-9b10-14433eb7fb6e",
   "metadata": {},
   "outputs": [],
   "source": [
    "pseudo_label_dataset = nti_squad.data.RawSamplesDataset(pseudo_label_samples)\n",
    "unioned_train_dataset = torch.utils.data.ConcatDataset([train_dataset, pseudo_label_dataset])"
   ]
  },
  {
   "cell_type": "markdown",
   "id": "98a04841-aa6e-4655-8c03-769f3167d001",
   "metadata": {},
   "source": [
    "#### Now can retrain model with pseudo labeled data"
   ]
  },
  {
   "cell_type": "markdown",
   "id": "8a3b08a1-6aa5-4f0d-ad57-8291f0de1f46",
   "metadata": {},
   "source": [
    "### Submitting"
   ]
  },
  {
   "cell_type": "code",
   "execution_count": 14,
   "id": "22d1bf60-849c-43e3-b457-ce21523824bd",
   "metadata": {},
   "outputs": [
    {
     "data": {
      "application/vnd.jupyter.widget-view+json": {
       "model_id": "ac69b1c9926c4787a641c30572b302a7",
       "version_major": 2,
       "version_minor": 0
      },
      "text/plain": [
       "HBox(children=(FloatProgress(value=0.0, max=5.0), HTML(value='')))"
      ]
     },
     "metadata": {},
     "output_type": "display_data"
    },
    {
     "name": "stdout",
     "output_type": "stream",
     "text": [
      "\n"
     ]
    }
   ],
   "source": [
    "submitter = nti_squad.qa_submitter.QASubmitter(subm_dir=os.path.join(BASE_DIR, 'submissions'))\n",
    "\n",
    "# test loader is taken from Pseudo labeling step\n",
    "submitter.create_submission(\n",
    "    manager, test_loader, subm_file_name=\"subm_single_bert_50000_steps.jsonl\",\n",
    "    )"
   ]
  },
  {
   "cell_type": "markdown",
   "id": "126071d4-5bad-4eb9-aa1c-996f66f4b824",
   "metadata": {},
   "source": [
    "# The End"
   ]
  }
 ],
 "metadata": {
  "kernelspec": {
   "display_name": "Python 3",
   "language": "python",
   "name": "python3"
  },
  "language_info": {
   "codemirror_mode": {
    "name": "ipython",
    "version": 3
   },
   "file_extension": ".py",
   "mimetype": "text/x-python",
   "name": "python",
   "nbconvert_exporter": "python",
   "pygments_lexer": "ipython3",
   "version": "3.7.9"
  }
 },
 "nbformat": 4,
 "nbformat_minor": 5
}
